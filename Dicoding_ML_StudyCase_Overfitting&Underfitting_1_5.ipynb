{
  "nbformat": 4,
  "nbformat_minor": 0,
  "metadata": {
    "colab": {
      "provenance": [],
      "authorship_tag": "ABX9TyOQwThsIsWU2L4/0eqN637h",
      "include_colab_link": true
    },
    "kernelspec": {
      "name": "python3",
      "display_name": "Python 3"
    },
    "language_info": {
      "name": "python"
    }
  },
  "cells": [
    {
      "cell_type": "markdown",
      "metadata": {
        "id": "view-in-github",
        "colab_type": "text"
      },
      "source": [
        "<a href=\"https://colab.research.google.com/github/gani88/ML-DataScience/blob/main/Dicoding_ML_StudyCase_Overfitting%26Underfitting_1_5.ipynb\" target=\"_parent\"><img src=\"https://colab.research.google.com/assets/colab-badge.svg\" alt=\"Open In Colab\"/></a>"
      ]
    },
    {
      "cell_type": "markdown",
      "source": [
        "# Overfitting and Underfitting Study Case"
      ],
      "metadata": {
        "id": "dZSFXdS9azes"
      }
    },
    {
      "cell_type": "markdown",
      "source": [
        "## Import Library"
      ],
      "metadata": {
        "id": "vGPHxTQIa5FO"
      }
    },
    {
      "cell_type": "code",
      "execution_count": 1,
      "metadata": {
        "id": "CLiEwbZ9aiOi"
      },
      "outputs": [],
      "source": [
        "import numpy as np\n",
        "import pandas as pd\n",
        "from sklearn.datasets import fetch_california_housing\n",
        "from sklearn.model_selection import train_test_split, cross_val_score, learning_curve\n",
        "from sklearn.preprocessing import StandardScaler\n",
        "from sklearn.tree import DecisionTreeRegressor\n",
        "from sklearn.metrics import mean_squared_error\n",
        "import matplotlib.pyplot as plt"
      ]
    },
    {
      "cell_type": "markdown",
      "source": [
        "## Load Dataset for Overfitting Problem"
      ],
      "metadata": {
        "id": "3rfw63cSbubW"
      }
    },
    {
      "cell_type": "code",
      "source": [
        "# Load the California Housing dataset\n",
        "data = fetch_california_housing()\n",
        "X = pd.DataFrame(data.data, columns=data.feature_names)\n",
        "y = pd.Series(data.target)"
      ],
      "metadata": {
        "id": "zviPctnQbuNH"
      },
      "execution_count": 2,
      "outputs": []
    },
    {
      "cell_type": "code",
      "source": [
        "X.head()"
      ],
      "metadata": {
        "colab": {
          "base_uri": "https://localhost:8080/",
          "height": 206
        },
        "id": "vLu_mY6abW6_",
        "outputId": "b6e6cf30-093c-40b5-fc12-a33a6de30d45"
      },
      "execution_count": 3,
      "outputs": [
        {
          "output_type": "execute_result",
          "data": {
            "text/plain": [
              "   MedInc  HouseAge  AveRooms  AveBedrms  Population  AveOccup  Latitude  \\\n",
              "0  8.3252      41.0  6.984127   1.023810       322.0  2.555556     37.88   \n",
              "1  8.3014      21.0  6.238137   0.971880      2401.0  2.109842     37.86   \n",
              "2  7.2574      52.0  8.288136   1.073446       496.0  2.802260     37.85   \n",
              "3  5.6431      52.0  5.817352   1.073059       558.0  2.547945     37.85   \n",
              "4  3.8462      52.0  6.281853   1.081081       565.0  2.181467     37.85   \n",
              "\n",
              "   Longitude  \n",
              "0    -122.23  \n",
              "1    -122.22  \n",
              "2    -122.24  \n",
              "3    -122.25  \n",
              "4    -122.25  "
            ],
            "text/html": [
              "\n",
              "  <div id=\"df-7a3799ee-b978-43a2-9d7e-73bebef84a51\" class=\"colab-df-container\">\n",
              "    <div>\n",
              "<style scoped>\n",
              "    .dataframe tbody tr th:only-of-type {\n",
              "        vertical-align: middle;\n",
              "    }\n",
              "\n",
              "    .dataframe tbody tr th {\n",
              "        vertical-align: top;\n",
              "    }\n",
              "\n",
              "    .dataframe thead th {\n",
              "        text-align: right;\n",
              "    }\n",
              "</style>\n",
              "<table border=\"1\" class=\"dataframe\">\n",
              "  <thead>\n",
              "    <tr style=\"text-align: right;\">\n",
              "      <th></th>\n",
              "      <th>MedInc</th>\n",
              "      <th>HouseAge</th>\n",
              "      <th>AveRooms</th>\n",
              "      <th>AveBedrms</th>\n",
              "      <th>Population</th>\n",
              "      <th>AveOccup</th>\n",
              "      <th>Latitude</th>\n",
              "      <th>Longitude</th>\n",
              "    </tr>\n",
              "  </thead>\n",
              "  <tbody>\n",
              "    <tr>\n",
              "      <th>0</th>\n",
              "      <td>8.3252</td>\n",
              "      <td>41.0</td>\n",
              "      <td>6.984127</td>\n",
              "      <td>1.023810</td>\n",
              "      <td>322.0</td>\n",
              "      <td>2.555556</td>\n",
              "      <td>37.88</td>\n",
              "      <td>-122.23</td>\n",
              "    </tr>\n",
              "    <tr>\n",
              "      <th>1</th>\n",
              "      <td>8.3014</td>\n",
              "      <td>21.0</td>\n",
              "      <td>6.238137</td>\n",
              "      <td>0.971880</td>\n",
              "      <td>2401.0</td>\n",
              "      <td>2.109842</td>\n",
              "      <td>37.86</td>\n",
              "      <td>-122.22</td>\n",
              "    </tr>\n",
              "    <tr>\n",
              "      <th>2</th>\n",
              "      <td>7.2574</td>\n",
              "      <td>52.0</td>\n",
              "      <td>8.288136</td>\n",
              "      <td>1.073446</td>\n",
              "      <td>496.0</td>\n",
              "      <td>2.802260</td>\n",
              "      <td>37.85</td>\n",
              "      <td>-122.24</td>\n",
              "    </tr>\n",
              "    <tr>\n",
              "      <th>3</th>\n",
              "      <td>5.6431</td>\n",
              "      <td>52.0</td>\n",
              "      <td>5.817352</td>\n",
              "      <td>1.073059</td>\n",
              "      <td>558.0</td>\n",
              "      <td>2.547945</td>\n",
              "      <td>37.85</td>\n",
              "      <td>-122.25</td>\n",
              "    </tr>\n",
              "    <tr>\n",
              "      <th>4</th>\n",
              "      <td>3.8462</td>\n",
              "      <td>52.0</td>\n",
              "      <td>6.281853</td>\n",
              "      <td>1.081081</td>\n",
              "      <td>565.0</td>\n",
              "      <td>2.181467</td>\n",
              "      <td>37.85</td>\n",
              "      <td>-122.25</td>\n",
              "    </tr>\n",
              "  </tbody>\n",
              "</table>\n",
              "</div>\n",
              "    <div class=\"colab-df-buttons\">\n",
              "\n",
              "  <div class=\"colab-df-container\">\n",
              "    <button class=\"colab-df-convert\" onclick=\"convertToInteractive('df-7a3799ee-b978-43a2-9d7e-73bebef84a51')\"\n",
              "            title=\"Convert this dataframe to an interactive table.\"\n",
              "            style=\"display:none;\">\n",
              "\n",
              "  <svg xmlns=\"http://www.w3.org/2000/svg\" height=\"24px\" viewBox=\"0 -960 960 960\">\n",
              "    <path d=\"M120-120v-720h720v720H120Zm60-500h600v-160H180v160Zm220 220h160v-160H400v160Zm0 220h160v-160H400v160ZM180-400h160v-160H180v160Zm440 0h160v-160H620v160ZM180-180h160v-160H180v160Zm440 0h160v-160H620v160Z\"/>\n",
              "  </svg>\n",
              "    </button>\n",
              "\n",
              "  <style>\n",
              "    .colab-df-container {\n",
              "      display:flex;\n",
              "      gap: 12px;\n",
              "    }\n",
              "\n",
              "    .colab-df-convert {\n",
              "      background-color: #E8F0FE;\n",
              "      border: none;\n",
              "      border-radius: 50%;\n",
              "      cursor: pointer;\n",
              "      display: none;\n",
              "      fill: #1967D2;\n",
              "      height: 32px;\n",
              "      padding: 0 0 0 0;\n",
              "      width: 32px;\n",
              "    }\n",
              "\n",
              "    .colab-df-convert:hover {\n",
              "      background-color: #E2EBFA;\n",
              "      box-shadow: 0px 1px 2px rgba(60, 64, 67, 0.3), 0px 1px 3px 1px rgba(60, 64, 67, 0.15);\n",
              "      fill: #174EA6;\n",
              "    }\n",
              "\n",
              "    .colab-df-buttons div {\n",
              "      margin-bottom: 4px;\n",
              "    }\n",
              "\n",
              "    [theme=dark] .colab-df-convert {\n",
              "      background-color: #3B4455;\n",
              "      fill: #D2E3FC;\n",
              "    }\n",
              "\n",
              "    [theme=dark] .colab-df-convert:hover {\n",
              "      background-color: #434B5C;\n",
              "      box-shadow: 0px 1px 3px 1px rgba(0, 0, 0, 0.15);\n",
              "      filter: drop-shadow(0px 1px 2px rgba(0, 0, 0, 0.3));\n",
              "      fill: #FFFFFF;\n",
              "    }\n",
              "  </style>\n",
              "\n",
              "    <script>\n",
              "      const buttonEl =\n",
              "        document.querySelector('#df-7a3799ee-b978-43a2-9d7e-73bebef84a51 button.colab-df-convert');\n",
              "      buttonEl.style.display =\n",
              "        google.colab.kernel.accessAllowed ? 'block' : 'none';\n",
              "\n",
              "      async function convertToInteractive(key) {\n",
              "        const element = document.querySelector('#df-7a3799ee-b978-43a2-9d7e-73bebef84a51');\n",
              "        const dataTable =\n",
              "          await google.colab.kernel.invokeFunction('convertToInteractive',\n",
              "                                                    [key], {});\n",
              "        if (!dataTable) return;\n",
              "\n",
              "        const docLinkHtml = 'Like what you see? Visit the ' +\n",
              "          '<a target=\"_blank\" href=https://colab.research.google.com/notebooks/data_table.ipynb>data table notebook</a>'\n",
              "          + ' to learn more about interactive tables.';\n",
              "        element.innerHTML = '';\n",
              "        dataTable['output_type'] = 'display_data';\n",
              "        await google.colab.output.renderOutput(dataTable, element);\n",
              "        const docLink = document.createElement('div');\n",
              "        docLink.innerHTML = docLinkHtml;\n",
              "        element.appendChild(docLink);\n",
              "      }\n",
              "    </script>\n",
              "  </div>\n",
              "\n",
              "\n",
              "<div id=\"df-f093cfe6-edf0-4f52-9698-f3483ce5f728\">\n",
              "  <button class=\"colab-df-quickchart\" onclick=\"quickchart('df-f093cfe6-edf0-4f52-9698-f3483ce5f728')\"\n",
              "            title=\"Suggest charts\"\n",
              "            style=\"display:none;\">\n",
              "\n",
              "<svg xmlns=\"http://www.w3.org/2000/svg\" height=\"24px\"viewBox=\"0 0 24 24\"\n",
              "     width=\"24px\">\n",
              "    <g>\n",
              "        <path d=\"M19 3H5c-1.1 0-2 .9-2 2v14c0 1.1.9 2 2 2h14c1.1 0 2-.9 2-2V5c0-1.1-.9-2-2-2zM9 17H7v-7h2v7zm4 0h-2V7h2v10zm4 0h-2v-4h2v4z\"/>\n",
              "    </g>\n",
              "</svg>\n",
              "  </button>\n",
              "\n",
              "<style>\n",
              "  .colab-df-quickchart {\n",
              "      --bg-color: #E8F0FE;\n",
              "      --fill-color: #1967D2;\n",
              "      --hover-bg-color: #E2EBFA;\n",
              "      --hover-fill-color: #174EA6;\n",
              "      --disabled-fill-color: #AAA;\n",
              "      --disabled-bg-color: #DDD;\n",
              "  }\n",
              "\n",
              "  [theme=dark] .colab-df-quickchart {\n",
              "      --bg-color: #3B4455;\n",
              "      --fill-color: #D2E3FC;\n",
              "      --hover-bg-color: #434B5C;\n",
              "      --hover-fill-color: #FFFFFF;\n",
              "      --disabled-bg-color: #3B4455;\n",
              "      --disabled-fill-color: #666;\n",
              "  }\n",
              "\n",
              "  .colab-df-quickchart {\n",
              "    background-color: var(--bg-color);\n",
              "    border: none;\n",
              "    border-radius: 50%;\n",
              "    cursor: pointer;\n",
              "    display: none;\n",
              "    fill: var(--fill-color);\n",
              "    height: 32px;\n",
              "    padding: 0;\n",
              "    width: 32px;\n",
              "  }\n",
              "\n",
              "  .colab-df-quickchart:hover {\n",
              "    background-color: var(--hover-bg-color);\n",
              "    box-shadow: 0 1px 2px rgba(60, 64, 67, 0.3), 0 1px 3px 1px rgba(60, 64, 67, 0.15);\n",
              "    fill: var(--button-hover-fill-color);\n",
              "  }\n",
              "\n",
              "  .colab-df-quickchart-complete:disabled,\n",
              "  .colab-df-quickchart-complete:disabled:hover {\n",
              "    background-color: var(--disabled-bg-color);\n",
              "    fill: var(--disabled-fill-color);\n",
              "    box-shadow: none;\n",
              "  }\n",
              "\n",
              "  .colab-df-spinner {\n",
              "    border: 2px solid var(--fill-color);\n",
              "    border-color: transparent;\n",
              "    border-bottom-color: var(--fill-color);\n",
              "    animation:\n",
              "      spin 1s steps(1) infinite;\n",
              "  }\n",
              "\n",
              "  @keyframes spin {\n",
              "    0% {\n",
              "      border-color: transparent;\n",
              "      border-bottom-color: var(--fill-color);\n",
              "      border-left-color: var(--fill-color);\n",
              "    }\n",
              "    20% {\n",
              "      border-color: transparent;\n",
              "      border-left-color: var(--fill-color);\n",
              "      border-top-color: var(--fill-color);\n",
              "    }\n",
              "    30% {\n",
              "      border-color: transparent;\n",
              "      border-left-color: var(--fill-color);\n",
              "      border-top-color: var(--fill-color);\n",
              "      border-right-color: var(--fill-color);\n",
              "    }\n",
              "    40% {\n",
              "      border-color: transparent;\n",
              "      border-right-color: var(--fill-color);\n",
              "      border-top-color: var(--fill-color);\n",
              "    }\n",
              "    60% {\n",
              "      border-color: transparent;\n",
              "      border-right-color: var(--fill-color);\n",
              "    }\n",
              "    80% {\n",
              "      border-color: transparent;\n",
              "      border-right-color: var(--fill-color);\n",
              "      border-bottom-color: var(--fill-color);\n",
              "    }\n",
              "    90% {\n",
              "      border-color: transparent;\n",
              "      border-bottom-color: var(--fill-color);\n",
              "    }\n",
              "  }\n",
              "</style>\n",
              "\n",
              "  <script>\n",
              "    async function quickchart(key) {\n",
              "      const quickchartButtonEl =\n",
              "        document.querySelector('#' + key + ' button');\n",
              "      quickchartButtonEl.disabled = true;  // To prevent multiple clicks.\n",
              "      quickchartButtonEl.classList.add('colab-df-spinner');\n",
              "      try {\n",
              "        const charts = await google.colab.kernel.invokeFunction(\n",
              "            'suggestCharts', [key], {});\n",
              "      } catch (error) {\n",
              "        console.error('Error during call to suggestCharts:', error);\n",
              "      }\n",
              "      quickchartButtonEl.classList.remove('colab-df-spinner');\n",
              "      quickchartButtonEl.classList.add('colab-df-quickchart-complete');\n",
              "    }\n",
              "    (() => {\n",
              "      let quickchartButtonEl =\n",
              "        document.querySelector('#df-f093cfe6-edf0-4f52-9698-f3483ce5f728 button');\n",
              "      quickchartButtonEl.style.display =\n",
              "        google.colab.kernel.accessAllowed ? 'block' : 'none';\n",
              "    })();\n",
              "  </script>\n",
              "</div>\n",
              "\n",
              "    </div>\n",
              "  </div>\n"
            ],
            "application/vnd.google.colaboratory.intrinsic+json": {
              "type": "dataframe",
              "variable_name": "X",
              "summary": "{\n  \"name\": \"X\",\n  \"rows\": 20640,\n  \"fields\": [\n    {\n      \"column\": \"MedInc\",\n      \"properties\": {\n        \"dtype\": \"number\",\n        \"std\": 1.8998217179452732,\n        \"min\": 0.4999,\n        \"max\": 15.0001,\n        \"num_unique_values\": 12928,\n        \"samples\": [\n          5.0286,\n          2.0433,\n          6.1228\n        ],\n        \"semantic_type\": \"\",\n        \"description\": \"\"\n      }\n    },\n    {\n      \"column\": \"HouseAge\",\n      \"properties\": {\n        \"dtype\": \"number\",\n        \"std\": 12.585557612111637,\n        \"min\": 1.0,\n        \"max\": 52.0,\n        \"num_unique_values\": 52,\n        \"samples\": [\n          35.0,\n          25.0,\n          7.0\n        ],\n        \"semantic_type\": \"\",\n        \"description\": \"\"\n      }\n    },\n    {\n      \"column\": \"AveRooms\",\n      \"properties\": {\n        \"dtype\": \"number\",\n        \"std\": 2.4741731394243205,\n        \"min\": 0.8461538461538461,\n        \"max\": 141.9090909090909,\n        \"num_unique_values\": 19392,\n        \"samples\": [\n          6.111269614835948,\n          5.912820512820513,\n          5.7924528301886795\n        ],\n        \"semantic_type\": \"\",\n        \"description\": \"\"\n      }\n    },\n    {\n      \"column\": \"AveBedrms\",\n      \"properties\": {\n        \"dtype\": \"number\",\n        \"std\": 0.47391085679546435,\n        \"min\": 0.3333333333333333,\n        \"max\": 34.06666666666667,\n        \"num_unique_values\": 14233,\n        \"samples\": [\n          0.9906542056074766,\n          1.112099644128114,\n          1.0398230088495575\n        ],\n        \"semantic_type\": \"\",\n        \"description\": \"\"\n      }\n    },\n    {\n      \"column\": \"Population\",\n      \"properties\": {\n        \"dtype\": \"number\",\n        \"std\": 1132.4621217653375,\n        \"min\": 3.0,\n        \"max\": 35682.0,\n        \"num_unique_values\": 3888,\n        \"samples\": [\n          4169.0,\n          636.0,\n          3367.0\n        ],\n        \"semantic_type\": \"\",\n        \"description\": \"\"\n      }\n    },\n    {\n      \"column\": \"AveOccup\",\n      \"properties\": {\n        \"dtype\": \"number\",\n        \"std\": 10.386049562213591,\n        \"min\": 0.6923076923076923,\n        \"max\": 1243.3333333333333,\n        \"num_unique_values\": 18841,\n        \"samples\": [\n          2.6939799331103678,\n          3.559375,\n          3.297082228116711\n        ],\n        \"semantic_type\": \"\",\n        \"description\": \"\"\n      }\n    },\n    {\n      \"column\": \"Latitude\",\n      \"properties\": {\n        \"dtype\": \"number\",\n        \"std\": 2.1359523974571117,\n        \"min\": 32.54,\n        \"max\": 41.95,\n        \"num_unique_values\": 862,\n        \"samples\": [\n          33.7,\n          34.41,\n          38.24\n        ],\n        \"semantic_type\": \"\",\n        \"description\": \"\"\n      }\n    },\n    {\n      \"column\": \"Longitude\",\n      \"properties\": {\n        \"dtype\": \"number\",\n        \"std\": 2.003531723502581,\n        \"min\": -124.35,\n        \"max\": -114.31,\n        \"num_unique_values\": 844,\n        \"samples\": [\n          -118.63,\n          -119.86,\n          -121.26\n        ],\n        \"semantic_type\": \"\",\n        \"description\": \"\"\n      }\n    }\n  ]\n}"
            }
          },
          "metadata": {},
          "execution_count": 3
        }
      ]
    },
    {
      "cell_type": "code",
      "source": [
        "y.head()"
      ],
      "metadata": {
        "colab": {
          "base_uri": "https://localhost:8080/",
          "height": 241
        },
        "id": "u_caRWcCcMb-",
        "outputId": "2c875b18-d02f-467e-fc29-8fe949998ca0"
      },
      "execution_count": 4,
      "outputs": [
        {
          "output_type": "execute_result",
          "data": {
            "text/plain": [
              "0    4.526\n",
              "1    3.585\n",
              "2    3.521\n",
              "3    3.413\n",
              "4    3.422\n",
              "dtype: float64"
            ],
            "text/html": [
              "<div>\n",
              "<style scoped>\n",
              "    .dataframe tbody tr th:only-of-type {\n",
              "        vertical-align: middle;\n",
              "    }\n",
              "\n",
              "    .dataframe tbody tr th {\n",
              "        vertical-align: top;\n",
              "    }\n",
              "\n",
              "    .dataframe thead th {\n",
              "        text-align: right;\n",
              "    }\n",
              "</style>\n",
              "<table border=\"1\" class=\"dataframe\">\n",
              "  <thead>\n",
              "    <tr style=\"text-align: right;\">\n",
              "      <th></th>\n",
              "      <th>0</th>\n",
              "    </tr>\n",
              "  </thead>\n",
              "  <tbody>\n",
              "    <tr>\n",
              "      <th>0</th>\n",
              "      <td>4.526</td>\n",
              "    </tr>\n",
              "    <tr>\n",
              "      <th>1</th>\n",
              "      <td>3.585</td>\n",
              "    </tr>\n",
              "    <tr>\n",
              "      <th>2</th>\n",
              "      <td>3.521</td>\n",
              "    </tr>\n",
              "    <tr>\n",
              "      <th>3</th>\n",
              "      <td>3.413</td>\n",
              "    </tr>\n",
              "    <tr>\n",
              "      <th>4</th>\n",
              "      <td>3.422</td>\n",
              "    </tr>\n",
              "  </tbody>\n",
              "</table>\n",
              "</div><br><label><b>dtype:</b> float64</label>"
            ]
          },
          "metadata": {},
          "execution_count": 4
        }
      ]
    },
    {
      "cell_type": "code",
      "source": [
        "# Data Normalization\n",
        "scaler = StandardScaler()\n",
        "X_scaled = scaler.fit_transform(X)"
      ],
      "metadata": {
        "id": "JRMOx3qIcOBA"
      },
      "execution_count": 5,
      "outputs": []
    },
    {
      "cell_type": "code",
      "source": [
        "# Split dataset into training and testing\n",
        "X_train, X_test, y_train, y_test = train_test_split(X_scaled, y, test_size=0.3, random_state=42)"
      ],
      "metadata": {
        "id": "oo4D0W3dcZGx"
      },
      "execution_count": 6,
      "outputs": []
    },
    {
      "cell_type": "code",
      "source": [
        "# Model Init\n",
        "model = DecisionTreeRegressor(max_depth=50, random_state=42)\n",
        "\n",
        "# Train the model\n",
        "model.fit(X_train, y_train)\n",
        "\n",
        "# Create prediction for data training and testing\n",
        "y_train_pred = model.predict(X_train)\n",
        "y_test_pred = model.predict(X_test)"
      ],
      "metadata": {
        "id": "MFLLt-Mmca-g"
      },
      "execution_count": 7,
      "outputs": []
    },
    {
      "cell_type": "markdown",
      "source": [
        "## Detect Overfitting"
      ],
      "metadata": {
        "id": "w6jnHNvpexVQ"
      }
    },
    {
      "cell_type": "markdown",
      "source": [
        "To detect overfitting, we need to compare model performance on training and testing data. Overfitting happen when model works very well on training data, but shows bad performance on testing data because model is too compatible with training data."
      ],
      "metadata": {
        "id": "Ibfp46fMfMXY"
      }
    },
    {
      "cell_type": "markdown",
      "source": [
        "### 1. Evaluate Performance on Training and Testing Data\n",
        "\n",
        "We can use MSE for data training and data testing. MSE is metric to calculate different mean squared between predicted value and true value. Lower MSE value, is better for model to predict data."
      ],
      "metadata": {
        "id": "YUBmj8E6flqK"
      }
    },
    {
      "cell_type": "markdown",
      "source": [
        "With this method, we can identify whether the model is overfitting or not. Good model should have balance relative of MSE between data training and testing. If it has significant different, maybe it need to consider to simplify model or using regularization technique to reduce overfitting."
      ],
      "metadata": {
        "id": "ijjBnSAJj9xd"
      }
    },
    {
      "cell_type": "code",
      "source": [
        "# Calculate MSE for training and testing\n",
        "train_mse = mean_squared_error(y_train, y_train_pred)\n",
        "test_mse = mean_squared_error(y_test, y_test_pred)\n",
        "\n",
        "print(f'Training MSE: {train_mse}')\n",
        "print(f'Test MSE: {test_mse}')"
      ],
      "metadata": {
        "colab": {
          "base_uri": "https://localhost:8080/"
        },
        "id": "SJWrU2qaedoX",
        "outputId": "c5abb7b6-b50a-4b55-98d4-989a7868247f"
      },
      "execution_count": 8,
      "outputs": [
        {
          "output_type": "stream",
          "name": "stdout",
          "text": [
            "Training MSE: 9.904697258622977e-32\n",
            "Test MSE: 0.5265256772490148\n"
          ]
        }
      ]
    },
    {
      "cell_type": "markdown",
      "source": [
        "As observed, there is a significant difference between the training and testing MSE, indicating overfitting. Overfitting occurs when a model becomes too tailored to the training data, losing its ability to generalize well to new, unseen data."
      ],
      "metadata": {
        "id": "w3uQhAxpl43F"
      }
    },
    {
      "cell_type": "markdown",
      "source": [
        "### 2. Learning Curve\n",
        "\n",
        "Another way to detect overfitting is by analyzing the Learning Curve. This curve helps us understand whether the model is overfitting or underfitting. Overfitting is indicated when the training error is very low, but the validation error remains high or does not decrease even as the training data increases."
      ],
      "metadata": {
        "id": "PFTruuSWpeYU"
      }
    },
    {
      "cell_type": "code",
      "source": [
        "# Calculate the learning curve\n",
        "train_sizes, train_scores, test_scores = learning_curve(model, X_train, y_train, cv=5, scoring='neg_mean_squared_error', n_jobs=-1)\n",
        "\n",
        "# Calculate mean and standard deviation\n",
        "train_mean = -np.mean(train_scores, axis=1)\n",
        "test_mean = -np.mean(test_scores, axis=1)\n",
        "\n",
        "# Learning curve\n",
        "plt.plot(train_sizes, train_mean, 'o-', color=\"blue\", label=\"Training error\")\n",
        "plt.plot(train_sizes, test_mean, 'o-', color=\"green\", label=\"Cross-validation error\")\n",
        "plt.title(\"Learning Curve\")\n",
        "plt.xlabel(\"Training Set Size\")\n",
        "plt.ylabel(\"MSE\")\n",
        "plt.legend()\n",
        "plt.show()"
      ],
      "metadata": {
        "colab": {
          "base_uri": "https://localhost:8080/",
          "height": 472
        },
        "id": "2ClmPSEPlzo_",
        "outputId": "0f1c1cbe-e5e7-43cd-a1b7-633d7f1dfaa0"
      },
      "execution_count": 9,
      "outputs": [
        {
          "output_type": "display_data",
          "data": {
            "text/plain": [
              "<Figure size 640x480 with 1 Axes>"
            ],
            "image/png": "[encoded data removed]"
          },
          "metadata": {}
        }
      ]
    },
    {
      "cell_type": "markdown",
      "source": [
        "The learning curve reveals a significant gap between the training error and the cross-validation error, which is a clear indication of overfitting."
      ],
      "metadata": {
        "id": "rLVRcjPNsCkC"
      }
    },
    {
      "cell_type": "markdown",
      "source": [
        "## Handle Overfitting"
      ],
      "metadata": {
        "id": "6LBk9SeasfNt"
      }
    },
    {
      "cell_type": "markdown",
      "source": [
        "### 1. Cross-Validation\n",
        "One effective method to address overfitting is cross-validation. This technique evaluates how well the model generalizes to new data by splitting the training dataset into multiple subsets. The model is trained and tested on different subsets in rotation, providing a more comprehensive view of its performance. Cross-validation helps reduce the risk of overfitting by ensuring the model is not overly reliant on a specific subset of the data."
      ],
      "metadata": {
        "id": "6IqD7xpRuba7"
      }
    },
    {
      "cell_type": "code",
      "source": [
        "# Using 5 fold cross-validation\n",
        "cross_val_scores = cross_val_score(model, X_train, y_train, cv=5, scoring='neg_mean_squared_error')\n",
        "\n",
        "print(f'Cross validation MSE: {-cross_val_scores.mean()}')"
      ],
      "metadata": {
        "colab": {
          "base_uri": "https://localhost:8080/"
        },
        "id": "dpLDVvfnsYGX",
        "outputId": "9ede1149-feba-4711-e32b-b0b4c4c0a96e"
      },
      "execution_count": 10,
      "outputs": [
        {
          "output_type": "stream",
          "name": "stdout",
          "text": [
            "Cross validation MSE: 0.5562691658603186\n"
          ]
        }
      ]
    },
    {
      "cell_type": "markdown",
      "source": [
        "After applying cross-validation, we obtained a cross-validation MSE of 0.556. Previously, the model showed a training MSE of 9.90 × 10⁻³² and a testing MSE of 0.562. These results indicate that before cross-validation, the model was overfitting—it performed nearly perfectly on the training data but struggled to maintain similar performance on the testing data."
      ],
      "metadata": {
        "id": "EI1QmPX0y0Kq"
      }
    },
    {
      "cell_type": "markdown",
      "source": [
        "With cross-validation, the model's performance is evaluated more thoroughly and fairly by splitting the data into multiple subsets and testing it alternately. The Cross-Validation MSE, which is close to the Test MSE (0.556 vs. 0.526), shows that the model is more consistent and better at avoiding overfitting. This means the model is now more reliable at predicting new data and remains stable when tested with different subsets.\n",
        "\n",
        "However, despite the improvement, there is still a significant gap between the Cross-Validation MSE and the very low Training MSE. This suggests that the model is not fully optimized and may still be overfitting to some extent."
      ],
      "metadata": {
        "id": "urakoKNyz5qI"
      }
    },
    {
      "cell_type": "markdown",
      "source": [
        "### 2. Regularization  (Max Depth, Min Samples Split, Min Samples Leaf)\n",
        "\n",
        "Applying regularization by reducing the decision tree depth to 5 helps simplify the model, preventing it from becoming overly complex and improving its ability to generalize to new data."
      ],
      "metadata": {
        "id": "zf708ozKz8Wz"
      }
    },
    {
      "cell_type": "code",
      "source": [
        "# Create the model\n",
        "model_reg = DecisionTreeRegressor(max_depth=5, random_state=42)\n",
        "model_reg.fit(X_train, y_train)\n",
        "\n",
        "# Evaluate training and testing data\n",
        "y_train_pred_reg = model_reg.predict(X_train)\n",
        "y_test_pred_reg = model_reg.predict(X_test)\n",
        "\n",
        "# Calculate the MSE\n",
        "train_mse_reg = mean_squared_error(y_train, y_train_pred_reg)\n",
        "test_mse_reg = mean_squared_error(y_test, y_test_pred_reg)\n",
        "\n",
        "print(f'Training MSE (After Regularization): {train_mse_reg}')\n",
        "print(f'Testing MSE (After Regularization): {test_mse_reg}')"
      ],
      "metadata": {
        "colab": {
          "base_uri": "https://localhost:8080/"
        },
        "id": "x6qqFM-Lxwgu",
        "outputId": "f6affd02-2c58-4272-bb3d-4cf6b0d21440"
      },
      "execution_count": 11,
      "outputs": [
        {
          "output_type": "stream",
          "name": "stdout",
          "text": [
            "Training MSE (After Regularization): 0.4928096322147045\n",
            "Testing MSE (After Regularization): 0.5210801561811793\n"
          ]
        }
      ]
    },
    {
      "cell_type": "markdown",
      "source": [
        "The results show significant improvement compared to before, with the gap between the training MSE and testing MSE becoming much smaller. This indicates that the model is now more balanced, focusing less on just the training data and performing more consistently on the testing data."
      ],
      "metadata": {
        "id": "oRvCYq673Hgy"
      }
    },
    {
      "cell_type": "markdown",
      "source": [
        "### 3. Pruning\n",
        "\n",
        "Another method is Pruning using the Cost Complexity Pruning technique, controlled by the ccp_alpha parameter. This technique prunes less important branches of the decision tree. A larger ccp_alpha value results in more branches being pruned, simplifying the model further."
      ],
      "metadata": {
        "id": "HJuHnVuC4A0y"
      }
    },
    {
      "cell_type": "code",
      "source": [
        "# Using ccp_alpha for pruning\n",
        "path = model.cost_complexity_pruning_path(X_train, y_train)\n",
        "ccp_alphas = path.ccp_alphas\n",
        "\n",
        "# Train model with pruning\n",
        "model_pruned = DecisionTreeRegressor(random_state=42, ccp_alpha=ccp_alphas[-2])\n",
        "model_pruned.fit(X_train, y_train)\n",
        "\n",
        "# Make a prediction\n",
        "y_train_pred_pruned = model_pruned.predict(X_train)\n",
        "y_test_pred_pruned = model_pruned.predict(X_test)\n",
        "\n",
        "# Calculate MSE\n",
        "train_mse_pruned = mean_squared_error(y_train, y_train_pred_pruned)\n",
        "test_mse_pruned = mean_squared_error(y_test, y_test_pred_pruned)\n",
        "\n",
        "print(f\"Pruned Model Training MSE: {train_mse_pruned}\")\n",
        "print(f\"Pruned Model Test MSE: {test_mse_pruned}\")"
      ],
      "metadata": {
        "id": "fvJhGBbf2pX0",
        "colab": {
          "base_uri": "https://localhost:8080/"
        },
        "outputId": "d0f97801-209e-4b4e-b778-7bd9637a5dc8"
      },
      "execution_count": 12,
      "outputs": [
        {
          "output_type": "stream",
          "name": "stdout",
          "text": [
            "Pruned Model Training MSE: 0.9189620181001872\n",
            "Pruned Model Test MSE: 0.9194598144703808\n"
          ]
        }
      ]
    },
    {
      "cell_type": "markdown",
      "source": [
        "The results are better compared to the decision tree without regularization. The MSE is now more stable between the training and testing data, which means the model can generalize new data more effectively and consistently."
      ],
      "metadata": {
        "id": "NpVAfpqIVlBS"
      }
    },
    {
      "cell_type": "markdown",
      "source": [
        "### 4. Data Augmentation\n",
        "\n",
        "\n",
        "Data augmentation is a technique used to enhance the quality and performance of a model by creating additional variations from the existing data.\n",
        "\n",
        "In this case, we apply augmentation by adding a small amount of noise. Noise refers to random disturbances in the training data. While not significant, this added variation can help make the training data more diverse and improve the model's ability to generalize."
      ],
      "metadata": {
        "id": "FNJFL70TWQDH"
      }
    },
    {
      "cell_type": "code",
      "source": [
        "# Add little noise to data\n",
        "X_train_aug = X_train + np.random.normal(0, 0.1, X_train.shape)\n",
        "\n",
        "# Retrain model with augmented data\n",
        "model_aug = DecisionTreeRegressor(max_depth=10, random_state=42)\n",
        "model_aug.fit(X_train_aug, y_train)\n",
        "\n",
        "# Create prediction\n",
        "y_train_pred_aug = model_aug.predict(X_train_aug)\n",
        "y_test_pred_aug = model_aug.predict(X_test)\n",
        "\n",
        "# MSE\n",
        "train_mse_aug = mean_squared_error(y_train, y_train_pred_aug)\n",
        "test_mse_aug = mean_squared_error(y_test, y_test_pred_aug)\n",
        "\n",
        "print(f'Augmented Data Training MSE: {train_mse_aug}')\n",
        "print(f'Augmented Data Test MSE: {test_mse_aug}')\n"
      ],
      "metadata": {
        "colab": {
          "base_uri": "https://localhost:8080/"
        },
        "id": "SXMD8wqFdLuf",
        "outputId": "b5053942-7a2e-45f8-8864-05124068ecbb"
      },
      "execution_count": 13,
      "outputs": [
        {
          "output_type": "stream",
          "name": "stdout",
          "text": [
            "Augmented Data Training MSE: 0.3099956869150689\n",
            "Augmented Data Test MSE: 0.5033724082007321\n"
          ]
        }
      ]
    },
    {
      "cell_type": "markdown",
      "source": [
        "### 5. Dropout\n",
        "\n",
        "Dropout is a regularization technique commonly used to reduce overfitting in machine learning models, particularly in neural networks. It works by randomly \"dropping out\" (disabling) some neurons during training, forcing the model to rely on a broader set of features and become more robust.\n",
        "\n",
        "However, for a this case, Decision Tree model, dropout cannot be directly applied. Instead, we use a similar approach with Random Forests. Random Forest is an ensemble method that combines multiple decision trees to improve model performance and reduce overfitting by averaging their predictions."
      ],
      "metadata": {
        "id": "1uilp16keJET"
      }
    },
    {
      "cell_type": "code",
      "source": [
        "from sklearn.ensemble import RandomForestRegressor\n",
        "\n",
        "# Init Random Forest with n_estimator\n",
        "model_rf = RandomForestRegressor(n_estimators=100, max_depth=10, random_state=42)\n",
        "\n",
        "# Train model\n",
        "model_rf.fit(X_train, y_train)\n",
        "\n",
        "# Create a prediction\n",
        "y_train_pred_rf = model_rf.predict(X_train)\n",
        "y_test_pred_rf = model_rf.predict(X_test)\n",
        "\n",
        "# Calculate MSE\n",
        "train_mse_rf = mean_squared_error(y_train_pred_rf, y_train)\n",
        "test_mse_rf = mean_squared_error(y_test_pred_rf, y_test)\n",
        "\n",
        "print(f\"Random Forest Training MSE : {train_mse_rf}\")\n",
        "print(f\"Random Forest Testing MSE : {test_mse_rf}\")"
      ],
      "metadata": {
        "colab": {
          "base_uri": "https://localhost:8080/"
        },
        "id": "y8PUJ0uOVUry",
        "outputId": "91ce25b5-b292-4c9a-dbe3-3c48490f3755"
      },
      "execution_count": 15,
      "outputs": [
        {
          "output_type": "stream",
          "name": "stdout",
          "text": [
            "Random Forest Training MSE : 0.1694494883912745\n",
            "Random Forest Testing MSE : 0.2944600120852388\n"
          ]
        }
      ]
    },
    {
      "cell_type": "code",
      "source": [],
      "metadata": {
        "id": "chochn7_YGIf"
      },
      "execution_count": null,
      "outputs": []
    }
  ]
}