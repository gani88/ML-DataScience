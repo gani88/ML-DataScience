{
 "cells": [
  {
   "cell_type": "markdown",
   "id": "28f23a84",
   "metadata": {
    "papermill": {
     "duration": 0.004988,
     "end_time": "2023-01-22T00:47:00.929265",
     "exception": false,
     "start_time": "2023-01-22T00:47:00.924277",
     "status": "completed"
    },
    "tags": []
   },
   "source": [
    "**This notebook is an exercise in the [Introduction to Machine Learning](https://www.kaggle.com/learn/intro-to-machine-learning) course.  You can reference the tutorial at [this link](https://www.kaggle.com/dansbecker/your-first-machine-learning-model).**\n",
    "\n",
    "---\n"
   ]
  },
  {
   "cell_type": "markdown",
   "id": "e24cc3d6",
   "metadata": {
    "papermill": {
     "duration": 0.003872,
     "end_time": "2023-01-22T00:47:00.937347",
     "exception": false,
     "start_time": "2023-01-22T00:47:00.933475",
     "status": "completed"
    },
    "tags": []
   },
   "source": [
    "## Recap\n",
    "So far, you have loaded your data and reviewed it with the following code. Run this cell to set up your coding environment where the previous step left off."
   ]
  },
  {
   "cell_type": "code",
   "execution_count": 1,
   "id": "d6e775cd",
   "metadata": {
    "collapsed": true,
    "execution": {
     "iopub.execute_input": "2023-01-22T00:47:00.948652Z",
     "iopub.status.busy": "2023-01-22T00:47:00.946998Z",
     "iopub.status.idle": "2023-01-22T00:47:02.214312Z",
     "shell.execute_reply": "2023-01-22T00:47:02.212966Z"
    },
    "jupyter": {
     "outputs_hidden": true
    },
    "papermill": {
     "duration": 1.275272,
     "end_time": "2023-01-22T00:47:02.216830",
     "exception": false,
     "start_time": "2023-01-22T00:47:00.941558",
     "status": "completed"
    },
    "tags": []
   },
   "outputs": [
    {
     "name": "stdout",
     "output_type": "stream",
     "text": [
      "Setup Complete\n"
     ]
    }
   ],
   "source": [
    "# Code you have previously used to load data\n",
    "import pandas as pd\n",
    "\n",
    "# Path of the file to read\n",
    "iowa_file_path = '../input/home-data-for-ml-course/train.csv'\n",
    "\n",
    "home_data = pd.read_csv(iowa_file_path)\n",
    "\n",
    "# Set up code checking\n",
    "from learntools.core import binder\n",
    "binder.bind(globals())\n",
    "from learntools.machine_learning.ex3 import *\n",
    "\n",
    "print(\"Setup Complete\")"
   ]
  },
  {
   "cell_type": "markdown",
   "id": "68ab6197",
   "metadata": {
    "papermill": {
     "duration": 0.00422,
     "end_time": "2023-01-22T00:47:02.225631",
     "exception": false,
     "start_time": "2023-01-22T00:47:02.221411",
     "status": "completed"
    },
    "tags": []
   },
   "source": [
    "# Exercises\n",
    "\n",
    "## Step 1: Specify Prediction Target\n",
    "Select the target variable, which corresponds to the sales price. Save this to a new variable called `y`. You'll need to print a list of the columns to find the name of the column you need.\n"
   ]
  },
  {
   "cell_type": "code",
   "execution_count": 2,
   "id": "3102b366",
   "metadata": {
    "collapsed": true,
    "execution": {
     "iopub.execute_input": "2023-01-22T00:47:02.236055Z",
     "iopub.status.busy": "2023-01-22T00:47:02.235673Z",
     "iopub.status.idle": "2023-01-22T00:47:02.240085Z",
     "shell.execute_reply": "2023-01-22T00:47:02.239046Z"
    },
    "jupyter": {
     "outputs_hidden": true
    },
    "papermill": {
     "duration": 0.011941,
     "end_time": "2023-01-22T00:47:02.241931",
     "exception": false,
     "start_time": "2023-01-22T00:47:02.229990",
     "status": "completed"
    },
    "tags": []
   },
   "outputs": [],
   "source": [
    "# print the list of columns in the dataset to find the name of the prediction target\n"
   ]
  },
  {
   "cell_type": "code",
   "execution_count": 3,
   "id": "93dc29b1",
   "metadata": {
    "collapsed": true,
    "execution": {
     "iopub.execute_input": "2023-01-22T00:47:02.252226Z",
     "iopub.status.busy": "2023-01-22T00:47:02.251861Z",
     "iopub.status.idle": "2023-01-22T00:47:02.260221Z",
     "shell.execute_reply": "2023-01-22T00:47:02.259564Z"
    },
    "jupyter": {
     "outputs_hidden": true
    },
    "papermill": {
     "duration": 0.015582,
     "end_time": "2023-01-22T00:47:02.261938",
     "exception": false,
     "start_time": "2023-01-22T00:47:02.246356",
     "status": "completed"
    },
    "tags": []
   },
   "outputs": [
    {
     "data": {
      "application/javascript": [
       "parent.postMessage({\"jupyterEvent\": \"custom.exercise_interaction\", \"data\": {\"outcomeType\": 4, \"interactionType\": 1, \"questionType\": 2, \"questionId\": \"1_SetTarget\", \"learnToolsVersion\": \"0.3.4\", \"valueTowardsCompletion\": 0.0, \"failureMessage\": \"\", \"exceptionClass\": \"\", \"trace\": \"\"}}, \"*\")"
      ],
      "text/plain": [
       "<IPython.core.display.Javascript object>"
      ]
     },
     "metadata": {},
     "output_type": "display_data"
    },
    {
     "data": {
      "text/markdown": [
       "<span style=\"color:#ccaa33\">Check:</span> When you've updated the starter code, `check()` will tell you whether your code is correct. You need to update the code that creates variable `y`"
      ],
      "text/plain": [
       "Check: When you've updated the starter code, `check()` will tell you whether your code is correct. You need to update the code that creates variable `y`"
      ]
     },
     "metadata": {},
     "output_type": "display_data"
    }
   ],
   "source": [
    "y = ____\n",
    "\n",
    "# Check your answer\n",
    "step_1.check()"
   ]
  },
  {
   "cell_type": "code",
   "execution_count": 4,
   "id": "e9daab78",
   "metadata": {
    "collapsed": true,
    "execution": {
     "iopub.execute_input": "2023-01-22T00:47:02.273005Z",
     "iopub.status.busy": "2023-01-22T00:47:02.272574Z",
     "iopub.status.idle": "2023-01-22T00:47:02.276904Z",
     "shell.execute_reply": "2023-01-22T00:47:02.275777Z"
    },
    "jupyter": {
     "outputs_hidden": true
    },
    "papermill": {
     "duration": 0.01234,
     "end_time": "2023-01-22T00:47:02.278959",
     "exception": false,
     "start_time": "2023-01-22T00:47:02.266619",
     "status": "completed"
    },
    "tags": []
   },
   "outputs": [],
   "source": [
    "# The lines below will show you a hint or the solution.\n",
    "# step_1.hint() \n",
    "# step_1.solution()"
   ]
  },
  {
   "cell_type": "markdown",
   "id": "77f13642",
   "metadata": {
    "papermill": {
     "duration": 0.004433,
     "end_time": "2023-01-22T00:47:02.288393",
     "exception": false,
     "start_time": "2023-01-22T00:47:02.283960",
     "status": "completed"
    },
    "tags": []
   },
   "source": [
    "## Step 2: Create X\n",
    "Now you will create a DataFrame called `X` holding the predictive features.\n",
    "\n",
    "Since you want only some columns from the original data, you'll first create a list with the names of the columns you want in `X`.\n",
    "\n",
    "You'll use just the following columns in the list (you can copy and paste the whole list to save some typing, though you'll still need to add quotes):\n",
    "  * LotArea\n",
    "  * YearBuilt\n",
    "  * 1stFlrSF\n",
    "  * 2ndFlrSF\n",
    "  * FullBath\n",
    "  * BedroomAbvGr\n",
    "  * TotRmsAbvGrd\n",
    "\n",
    "After you've created that list of features, use it to create the DataFrame that you'll use to fit the model."
   ]
  },
  {
   "cell_type": "code",
   "execution_count": 5,
   "id": "c58f24f0",
   "metadata": {
    "collapsed": true,
    "execution": {
     "iopub.execute_input": "2023-01-22T00:47:02.301255Z",
     "iopub.status.busy": "2023-01-22T00:47:02.300916Z",
     "iopub.status.idle": "2023-01-22T00:47:02.307953Z",
     "shell.execute_reply": "2023-01-22T00:47:02.307076Z"
    },
    "jupyter": {
     "outputs_hidden": true
    },
    "papermill": {
     "duration": 0.016371,
     "end_time": "2023-01-22T00:47:02.309649",
     "exception": false,
     "start_time": "2023-01-22T00:47:02.293278",
     "status": "completed"
    },
    "tags": []
   },
   "outputs": [
    {
     "data": {
      "application/javascript": [
       "parent.postMessage({\"jupyterEvent\": \"custom.exercise_interaction\", \"data\": {\"outcomeType\": 4, \"interactionType\": 1, \"questionType\": 2, \"questionId\": \"2_SelectPredictionData\", \"learnToolsVersion\": \"0.3.4\", \"valueTowardsCompletion\": 0.0, \"failureMessage\": \"\", \"exceptionClass\": \"\", \"trace\": \"\"}}, \"*\")"
      ],
      "text/plain": [
       "<IPython.core.display.Javascript object>"
      ]
     },
     "metadata": {},
     "output_type": "display_data"
    },
    {
     "data": {
      "text/markdown": [
       "<span style=\"color:#ccaa33\">Check:</span> When you've updated the starter code, `check()` will tell you whether your code is correct. You need to update the code that creates variable `X`"
      ],
      "text/plain": [
       "Check: When you've updated the starter code, `check()` will tell you whether your code is correct. You need to update the code that creates variable `X`"
      ]
     },
     "metadata": {},
     "output_type": "display_data"
    }
   ],
   "source": [
    "# Create the list of features below\n",
    "feature_names = ___\n",
    "\n",
    "# Select data corresponding to features in feature_names\n",
    "X = ____\n",
    "\n",
    "# Check your answer\n",
    "step_2.check()"
   ]
  },
  {
   "cell_type": "code",
   "execution_count": 6,
   "id": "971f5914",
   "metadata": {
    "collapsed": true,
    "execution": {
     "iopub.execute_input": "2023-01-22T00:47:02.321163Z",
     "iopub.status.busy": "2023-01-22T00:47:02.320870Z",
     "iopub.status.idle": "2023-01-22T00:47:02.324698Z",
     "shell.execute_reply": "2023-01-22T00:47:02.323598Z"
    },
    "jupyter": {
     "outputs_hidden": true
    },
    "papermill": {
     "duration": 0.011559,
     "end_time": "2023-01-22T00:47:02.326418",
     "exception": false,
     "start_time": "2023-01-22T00:47:02.314859",
     "status": "completed"
    },
    "tags": []
   },
   "outputs": [],
   "source": [
    "# step_2.hint()\n",
    "# step_2.solution()"
   ]
  },
  {
   "cell_type": "markdown",
   "id": "50d1a9ed",
   "metadata": {
    "papermill": {
     "duration": 0.004659,
     "end_time": "2023-01-22T00:47:02.336311",
     "exception": false,
     "start_time": "2023-01-22T00:47:02.331652",
     "status": "completed"
    },
    "tags": []
   },
   "source": [
    "## Review Data\n",
    "Before building a model, take a quick look at **X** to verify it looks sensible"
   ]
  },
  {
   "cell_type": "code",
   "execution_count": 7,
   "id": "f90ec5f6",
   "metadata": {
    "collapsed": true,
    "execution": {
     "iopub.execute_input": "2023-01-22T00:47:02.347562Z",
     "iopub.status.busy": "2023-01-22T00:47:02.347242Z",
     "iopub.status.idle": "2023-01-22T00:47:02.350910Z",
     "shell.execute_reply": "2023-01-22T00:47:02.350100Z"
    },
    "jupyter": {
     "outputs_hidden": true
    },
    "papermill": {
     "duration": 0.011969,
     "end_time": "2023-01-22T00:47:02.353179",
     "exception": false,
     "start_time": "2023-01-22T00:47:02.341210",
     "status": "completed"
    },
    "tags": []
   },
   "outputs": [],
   "source": [
    "# Review data\n",
    "# print description or statistics from X\n",
    "#print(_)\n",
    "\n",
    "# print the top few lines\n",
    "#print(_)"
   ]
  },
  {
   "cell_type": "markdown",
   "id": "a325285d",
   "metadata": {
    "papermill": {
     "duration": 0.004805,
     "end_time": "2023-01-22T00:47:02.363502",
     "exception": false,
     "start_time": "2023-01-22T00:47:02.358697",
     "status": "completed"
    },
    "tags": []
   },
   "source": [
    "## Step 3: Specify and Fit Model\n",
    "Create a `DecisionTreeRegressor` and save it iowa_model. Ensure you've done the relevant import from sklearn to run this command.\n",
    "\n",
    "Then fit the model you just created using the data in `X` and `y` that you saved above."
   ]
  },
  {
   "cell_type": "code",
   "execution_count": 8,
   "id": "3867b775",
   "metadata": {
    "collapsed": true,
    "execution": {
     "iopub.execute_input": "2023-01-22T00:47:02.375145Z",
     "iopub.status.busy": "2023-01-22T00:47:02.374814Z",
     "iopub.status.idle": "2023-01-22T00:47:02.382267Z",
     "shell.execute_reply": "2023-01-22T00:47:02.381397Z"
    },
    "jupyter": {
     "outputs_hidden": true
    },
    "papermill": {
     "duration": 0.016202,
     "end_time": "2023-01-22T00:47:02.384690",
     "exception": false,
     "start_time": "2023-01-22T00:47:02.368488",
     "status": "completed"
    },
    "tags": []
   },
   "outputs": [
    {
     "data": {
      "application/javascript": [
       "parent.postMessage({\"jupyterEvent\": \"custom.exercise_interaction\", \"data\": {\"outcomeType\": 4, \"interactionType\": 1, \"questionType\": 2, \"questionId\": \"3_CreateModel\", \"learnToolsVersion\": \"0.3.4\", \"valueTowardsCompletion\": 0.0, \"failureMessage\": \"\", \"exceptionClass\": \"\", \"trace\": \"\"}}, \"*\")"
      ],
      "text/plain": [
       "<IPython.core.display.Javascript object>"
      ]
     },
     "metadata": {},
     "output_type": "display_data"
    },
    {
     "data": {
      "text/markdown": [
       "<span style=\"color:#ccaa33\">Check:</span> When you've updated the starter code, `check()` will tell you whether your code is correct. You need to update the code that creates variable `iowa_model`"
      ],
      "text/plain": [
       "Check: When you've updated the starter code, `check()` will tell you whether your code is correct. You need to update the code that creates variable `iowa_model`"
      ]
     },
     "metadata": {},
     "output_type": "display_data"
    }
   ],
   "source": [
    "# from _ import _\n",
    "#specify the model. \n",
    "#For model reproducibility, set a numeric value for random_state when specifying the model\n",
    "iowa_model = ____\n",
    "\n",
    "# Fit the model\n",
    "____\n",
    "\n",
    "# Check your answer\n",
    "step_3.check()"
   ]
  },
  {
   "cell_type": "code",
   "execution_count": 9,
   "id": "936596d2",
   "metadata": {
    "collapsed": true,
    "execution": {
     "iopub.execute_input": "2023-01-22T00:47:02.397041Z",
     "iopub.status.busy": "2023-01-22T00:47:02.396703Z",
     "iopub.status.idle": "2023-01-22T00:47:02.401130Z",
     "shell.execute_reply": "2023-01-22T00:47:02.399965Z"
    },
    "jupyter": {
     "outputs_hidden": true
    },
    "papermill": {
     "duration": 0.013239,
     "end_time": "2023-01-22T00:47:02.403525",
     "exception": false,
     "start_time": "2023-01-22T00:47:02.390286",
     "status": "completed"
    },
    "tags": []
   },
   "outputs": [],
   "source": [
    "# step_3.hint()\n",
    "# step_3.solution()"
   ]
  },
  {
   "cell_type": "markdown",
   "id": "133c3e47",
   "metadata": {
    "papermill": {
     "duration": 0.005044,
     "end_time": "2023-01-22T00:47:02.414208",
     "exception": false,
     "start_time": "2023-01-22T00:47:02.409164",
     "status": "completed"
    },
    "tags": []
   },
   "source": [
    "## Step 4: Make Predictions\n",
    "Make predictions with the model's `predict` command using `X` as the data. Save the results to a variable called `predictions`."
   ]
  },
  {
   "cell_type": "code",
   "execution_count": 10,
   "id": "042281c7",
   "metadata": {
    "collapsed": true,
    "execution": {
     "iopub.execute_input": "2023-01-22T00:47:02.426598Z",
     "iopub.status.busy": "2023-01-22T00:47:02.426290Z",
     "iopub.status.idle": "2023-01-22T00:47:02.433838Z",
     "shell.execute_reply": "2023-01-22T00:47:02.432938Z"
    },
    "jupyter": {
     "outputs_hidden": true
    },
    "papermill": {
     "duration": 0.015939,
     "end_time": "2023-01-22T00:47:02.435438",
     "exception": false,
     "start_time": "2023-01-22T00:47:02.419499",
     "status": "completed"
    },
    "tags": []
   },
   "outputs": [
    {
     "name": "stdout",
     "output_type": "stream",
     "text": [
      "<learntools.core.constants.PlaceholderValue object at 0x7f106f861050>\n"
     ]
    },
    {
     "data": {
      "application/javascript": [
       "parent.postMessage({\"jupyterEvent\": \"custom.exercise_interaction\", \"data\": {\"outcomeType\": 4, \"interactionType\": 1, \"questionType\": 2, \"questionId\": \"4_MakePredictions\", \"learnToolsVersion\": \"0.3.4\", \"valueTowardsCompletion\": 0.0, \"failureMessage\": \"\", \"exceptionClass\": \"\", \"trace\": \"\"}}, \"*\")"
      ],
      "text/plain": [
       "<IPython.core.display.Javascript object>"
      ]
     },
     "metadata": {},
     "output_type": "display_data"
    },
    {
     "data": {
      "text/markdown": [
       "<span style=\"color:#ccaa33\">Check:</span> When you've updated the starter code, `check()` will tell you whether your code is correct. You need to update the code that creates variables `predictions`, `iowa_model`, `X`"
      ],
      "text/plain": [
       "Check: When you've updated the starter code, `check()` will tell you whether your code is correct. You need to update the code that creates variables `predictions`, `iowa_model`, `X`"
      ]
     },
     "metadata": {},
     "output_type": "display_data"
    }
   ],
   "source": [
    "predictions = ____\n",
    "print(predictions)\n",
    "\n",
    "# Check your answer\n",
    "step_4.check()"
   ]
  },
  {
   "cell_type": "code",
   "execution_count": 11,
   "id": "c72682ac",
   "metadata": {
    "collapsed": true,
    "execution": {
     "iopub.execute_input": "2023-01-22T00:47:02.449409Z",
     "iopub.status.busy": "2023-01-22T00:47:02.449068Z",
     "iopub.status.idle": "2023-01-22T00:47:02.453388Z",
     "shell.execute_reply": "2023-01-22T00:47:02.452154Z"
    },
    "jupyter": {
     "outputs_hidden": true
    },
    "papermill": {
     "duration": 0.013952,
     "end_time": "2023-01-22T00:47:02.455842",
     "exception": false,
     "start_time": "2023-01-22T00:47:02.441890",
     "status": "completed"
    },
    "tags": []
   },
   "outputs": [],
   "source": [
    "# step_4.hint()\n",
    "# step_4.solution()"
   ]
  },
  {
   "cell_type": "markdown",
   "id": "8786d21c",
   "metadata": {
    "papermill": {
     "duration": 0.005402,
     "end_time": "2023-01-22T00:47:02.467094",
     "exception": false,
     "start_time": "2023-01-22T00:47:02.461692",
     "status": "completed"
    },
    "tags": []
   },
   "source": [
    "## Think About Your Results\n",
    "\n",
    "Use the `head` method to compare the top few predictions to the actual home values (in `y`) for those same homes. Anything surprising?\n"
   ]
  },
  {
   "cell_type": "code",
   "execution_count": 12,
   "id": "a4368d23",
   "metadata": {
    "execution": {
     "iopub.execute_input": "2023-01-22T00:47:02.479884Z",
     "iopub.status.busy": "2023-01-22T00:47:02.479469Z",
     "iopub.status.idle": "2023-01-22T00:47:02.483608Z",
     "shell.execute_reply": "2023-01-22T00:47:02.482782Z"
    },
    "papermill": {
     "duration": 0.012679,
     "end_time": "2023-01-22T00:47:02.485386",
     "exception": false,
     "start_time": "2023-01-22T00:47:02.472707",
     "status": "completed"
    },
    "tags": []
   },
   "outputs": [],
   "source": [
    "# You can write code in this cell\n"
   ]
  },
  {
   "cell_type": "markdown",
   "id": "caf75ad7",
   "metadata": {
    "papermill": {
     "duration": 0.005564,
     "end_time": "2023-01-22T00:47:02.496914",
     "exception": false,
     "start_time": "2023-01-22T00:47:02.491350",
     "status": "completed"
    },
    "tags": []
   },
   "source": [
    "It's natural to ask how accurate the model's predictions will be and how you can improve that. That will be you're next step.\n",
    "\n",
    "# Keep Going\n",
    "\n",
    "You are ready for **[Model Validation](https://www.kaggle.com/dansbecker/model-validation).**\n"
   ]
  },
  {
   "cell_type": "markdown",
   "id": "c0e5643f",
   "metadata": {
    "papermill": {
     "duration": 0.005428,
     "end_time": "2023-01-22T00:47:02.508038",
     "exception": false,
     "start_time": "2023-01-22T00:47:02.502610",
     "status": "completed"
    },
    "tags": []
   },
   "source": [
    "---\n",
    "\n",
    "\n",
    "\n",
    "\n",
    "*Have questions or comments? Visit the [course discussion forum](https://www.kaggle.com/learn/intro-to-machine-learning/discussion) to chat with other learners.*"
   ]
  }
 ],
 "metadata": {
  "kernelspec": {
   "display_name": "Python 3",
   "language": "python",
   "name": "python3"
  },
  "language_info": {
   "codemirror_mode": {
    "name": "ipython",
    "version": 3
   },
   "file_extension": ".py",
   "mimetype": "text/x-python",
   "name": "python",
   "nbconvert_exporter": "python",
   "pygments_lexer": "ipython3",
   "version": "3.7.12"
  },
  "papermill": {
   "default_parameters": {},
   "duration": 11.31584,
   "end_time": "2023-01-22T00:47:03.235920",
   "environment_variables": {},
   "exception": null,
   "input_path": "__notebook__.ipynb",
   "output_path": "__notebook__.ipynb",
   "parameters": {},
   "start_time": "2023-01-22T00:46:51.920080",
   "version": "2.3.4"
  }
 },
 "nbformat": 4,
 "nbformat_minor": 5
}
