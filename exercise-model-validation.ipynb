{
 "cells": [
  {
   "cell_type": "markdown",
   "id": "df76b1b3",
   "metadata": {
    "papermill": {
     "duration": 0.005524,
     "end_time": "2023-01-24T20:21:29.593917",
     "exception": false,
     "start_time": "2023-01-24T20:21:29.588393",
     "status": "completed"
    },
    "tags": []
   },
   "source": [
    "**This notebook is an exercise in the [Introduction to Machine Learning](https://www.kaggle.com/learn/intro-to-machine-learning) course.  You can reference the tutorial at [this link](https://www.kaggle.com/dansbecker/model-validation).**\n",
    "\n",
    "---\n"
   ]
  },
  {
   "cell_type": "markdown",
   "id": "a8c14e99",
   "metadata": {
    "papermill": {
     "duration": 0.003349,
     "end_time": "2023-01-24T20:21:29.601386",
     "exception": false,
     "start_time": "2023-01-24T20:21:29.598037",
     "status": "completed"
    },
    "tags": []
   },
   "source": [
    "## Recap\n",
    "You've built a model. In this exercise you will test how good your model is.\n",
    "\n",
    "Run the cell below to set up your coding environment where the previous exercise left off."
   ]
  },
  {
   "cell_type": "code",
   "execution_count": 1,
   "id": "7ee218a5",
   "metadata": {
    "execution": {
     "iopub.execute_input": "2023-01-24T20:21:29.611196Z",
     "iopub.status.busy": "2023-01-24T20:21:29.610570Z",
     "iopub.status.idle": "2023-01-24T20:21:31.264508Z",
     "shell.execute_reply": "2023-01-24T20:21:31.262253Z"
    },
    "papermill": {
     "duration": 1.662908,
     "end_time": "2023-01-24T20:21:31.268096",
     "exception": false,
     "start_time": "2023-01-24T20:21:29.605188",
     "status": "completed"
    },
    "tags": []
   },
   "outputs": [
    {
     "name": "stdout",
     "output_type": "stream",
     "text": [
      "First in-sample predictions: [208500. 181500. 223500. 140000. 250000.]\n",
      "Actual target values for those homes: [208500, 181500, 223500, 140000, 250000]\n",
      "Setup Complete\n"
     ]
    }
   ],
   "source": [
    "# Code you have previously used to load data\n",
    "import pandas as pd\n",
    "from sklearn.tree import DecisionTreeRegressor\n",
    "\n",
    "# Path of the file to read\n",
    "iowa_file_path = '../input/home-data-for-ml-course/train.csv'\n",
    "\n",
    "home_data = pd.read_csv(iowa_file_path)\n",
    "y = home_data.SalePrice\n",
    "feature_columns = ['LotArea', 'YearBuilt', '1stFlrSF', '2ndFlrSF', 'FullBath', 'BedroomAbvGr', 'TotRmsAbvGrd']\n",
    "X = home_data[feature_columns]\n",
    "\n",
    "# Specify Model\n",
    "iowa_model = DecisionTreeRegressor()\n",
    "# Fit Model\n",
    "iowa_model.fit(X, y)\n",
    "\n",
    "print(\"First in-sample predictions:\", iowa_model.predict(X.head()))\n",
    "print(\"Actual target values for those homes:\", y.head().tolist())\n",
    "\n",
    "# Set up code checking\n",
    "from learntools.core import binder\n",
    "binder.bind(globals())\n",
    "from learntools.machine_learning.ex4 import *\n",
    "print(\"Setup Complete\")"
   ]
  },
  {
   "cell_type": "markdown",
   "id": "3f8b0eb2",
   "metadata": {
    "papermill": {
     "duration": 0.0036,
     "end_time": "2023-01-24T20:21:31.276274",
     "exception": false,
     "start_time": "2023-01-24T20:21:31.272674",
     "status": "completed"
    },
    "tags": []
   },
   "source": [
    "# Exercises\n",
    "\n",
    "## Step 1: Split Your Data\n",
    "Use the `train_test_split` function to split up your data.\n",
    "\n",
    "Give it the argument `random_state=1` so the `check` functions know what to expect when verifying your code.\n",
    "\n",
    "Recall, your features are loaded in the DataFrame **X** and your target is loaded in **y**.\n"
   ]
  },
  {
   "cell_type": "code",
   "execution_count": 2,
   "id": "bce86eee",
   "metadata": {
    "execution": {
     "iopub.execute_input": "2023-01-24T20:21:31.286855Z",
     "iopub.status.busy": "2023-01-24T20:21:31.285836Z",
     "iopub.status.idle": "2023-01-24T20:21:31.299349Z",
     "shell.execute_reply": "2023-01-24T20:21:31.297385Z"
    },
    "papermill": {
     "duration": 0.02235,
     "end_time": "2023-01-24T20:21:31.302349",
     "exception": false,
     "start_time": "2023-01-24T20:21:31.279999",
     "status": "completed"
    },
    "tags": []
   },
   "outputs": [
    {
     "data": {
      "application/javascript": [
       "parent.postMessage({\"jupyterEvent\": \"custom.exercise_interaction\", \"data\": {\"outcomeType\": 2, \"failureMessage\": \"You still need to define the following variables: `train_y`, `val_y`, `train_X`, `val_X`\", \"interactionType\": 1, \"questionType\": 2, \"questionId\": \"1_SplitData\", \"learnToolsVersion\": \"0.3.4\", \"valueTowardsCompletion\": 0.0, \"exceptionClass\": \"\", \"trace\": \"\"}}, \"*\")"
      ],
      "text/plain": [
       "<IPython.core.display.Javascript object>"
      ]
     },
     "metadata": {},
     "output_type": "display_data"
    },
    {
     "data": {
      "text/markdown": [
       "<span style=\"color:#cc3333\">Incorrect:</span> You still need to define the following variables: `train_y`, `val_y`, `train_X`, `val_X`"
      ],
      "text/plain": [
       "Incorrect: You still need to define the following variables: `train_y`, `val_y`, `train_X`, `val_X`"
      ]
     },
     "metadata": {},
     "output_type": "display_data"
    }
   ],
   "source": [
    "# Import the train_test_split function and uncomment\n",
    "# from _ import _\n",
    "\n",
    "# fill in and uncomment\n",
    "# train_X, val_X, train_y, val_y = ____\n",
    "\n",
    "# Check your answer\n",
    "step_1.check()"
   ]
  },
  {
   "cell_type": "code",
   "execution_count": 3,
   "id": "6557424d",
   "metadata": {
    "execution": {
     "iopub.execute_input": "2023-01-24T20:21:31.313652Z",
     "iopub.status.busy": "2023-01-24T20:21:31.313153Z",
     "iopub.status.idle": "2023-01-24T20:21:31.317671Z",
     "shell.execute_reply": "2023-01-24T20:21:31.316648Z"
    },
    "papermill": {
     "duration": 0.01429,
     "end_time": "2023-01-24T20:21:31.321199",
     "exception": false,
     "start_time": "2023-01-24T20:21:31.306909",
     "status": "completed"
    },
    "tags": []
   },
   "outputs": [],
   "source": [
    "# The lines below will show you a hint or the solution.\n",
    "# step_1.hint() \n",
    "# step_1.solution()\n"
   ]
  },
  {
   "cell_type": "markdown",
   "id": "ae024c5f",
   "metadata": {
    "papermill": {
     "duration": 0.003865,
     "end_time": "2023-01-24T20:21:31.329639",
     "exception": false,
     "start_time": "2023-01-24T20:21:31.325774",
     "status": "completed"
    },
    "tags": []
   },
   "source": [
    "## Step 2: Specify and Fit the Model\n",
    "\n",
    "Create a `DecisionTreeRegressor` model and fit it to the relevant data.\n",
    "Set `random_state` to 1 again when creating the model."
   ]
  },
  {
   "cell_type": "code",
   "execution_count": 4,
   "id": "a473840f",
   "metadata": {
    "execution": {
     "iopub.execute_input": "2023-01-24T20:21:31.340650Z",
     "iopub.status.busy": "2023-01-24T20:21:31.340146Z",
     "iopub.status.idle": "2023-01-24T20:21:31.351308Z",
     "shell.execute_reply": "2023-01-24T20:21:31.349686Z"
    },
    "papermill": {
     "duration": 0.020085,
     "end_time": "2023-01-24T20:21:31.353984",
     "exception": false,
     "start_time": "2023-01-24T20:21:31.333899",
     "status": "completed"
    },
    "tags": []
   },
   "outputs": [
    {
     "data": {
      "application/javascript": [
       "parent.postMessage({\"jupyterEvent\": \"custom.exercise_interaction\", \"data\": {\"outcomeType\": 2, \"failureMessage\": \"You still need to define the following variables: `train_y`, `val_X`, `train_X`\", \"interactionType\": 1, \"questionType\": 2, \"questionId\": \"2_FitModelWithTrain\", \"learnToolsVersion\": \"0.3.4\", \"valueTowardsCompletion\": 0.0, \"exceptionClass\": \"\", \"trace\": \"\"}}, \"*\")"
      ],
      "text/plain": [
       "<IPython.core.display.Javascript object>"
      ]
     },
     "metadata": {},
     "output_type": "display_data"
    },
    {
     "data": {
      "text/markdown": [
       "<span style=\"color:#cc3333\">Incorrect:</span> You still need to define the following variables: `train_y`, `val_X`, `train_X`"
      ],
      "text/plain": [
       "Incorrect: You still need to define the following variables: `train_y`, `val_X`, `train_X`"
      ]
     },
     "metadata": {},
     "output_type": "display_data"
    }
   ],
   "source": [
    "# You imported DecisionTreeRegressor in your last exercise\n",
    "# and that code has been copied to the setup code above. So, no need to\n",
    "# import it again\n",
    "\n",
    "# Specify the model\n",
    "iowa_model = ____\n",
    "\n",
    "# Fit iowa_model with the training data.\n",
    "____\n",
    "\n",
    "# Check your answer\n",
    "step_2.check()"
   ]
  },
  {
   "cell_type": "code",
   "execution_count": 5,
   "id": "c5747ddf",
   "metadata": {
    "execution": {
     "iopub.execute_input": "2023-01-24T20:21:31.366251Z",
     "iopub.status.busy": "2023-01-24T20:21:31.365538Z",
     "iopub.status.idle": "2023-01-24T20:21:31.369465Z",
     "shell.execute_reply": "2023-01-24T20:21:31.368551Z"
    },
    "papermill": {
     "duration": 0.013452,
     "end_time": "2023-01-24T20:21:31.372455",
     "exception": false,
     "start_time": "2023-01-24T20:21:31.359003",
     "status": "completed"
    },
    "tags": []
   },
   "outputs": [],
   "source": [
    "# step_2.hint()\n",
    "# step_2.solution()"
   ]
  },
  {
   "cell_type": "markdown",
   "id": "62c5b317",
   "metadata": {
    "papermill": {
     "duration": 0.005449,
     "end_time": "2023-01-24T20:21:31.383364",
     "exception": false,
     "start_time": "2023-01-24T20:21:31.377915",
     "status": "completed"
    },
    "tags": []
   },
   "source": [
    "## Step 3: Make Predictions with Validation data\n"
   ]
  },
  {
   "cell_type": "code",
   "execution_count": 6,
   "id": "b48638dd",
   "metadata": {
    "execution": {
     "iopub.execute_input": "2023-01-24T20:21:31.394567Z",
     "iopub.status.busy": "2023-01-24T20:21:31.394125Z",
     "iopub.status.idle": "2023-01-24T20:21:31.403185Z",
     "shell.execute_reply": "2023-01-24T20:21:31.401992Z"
    },
    "papermill": {
     "duration": 0.018785,
     "end_time": "2023-01-24T20:21:31.406838",
     "exception": false,
     "start_time": "2023-01-24T20:21:31.388053",
     "status": "completed"
    },
    "tags": []
   },
   "outputs": [
    {
     "data": {
      "application/javascript": [
       "parent.postMessage({\"jupyterEvent\": \"custom.exercise_interaction\", \"data\": {\"outcomeType\": 2, \"failureMessage\": \"You still need to define the following variables: `val_X`\", \"interactionType\": 1, \"questionType\": 2, \"questionId\": \"3_ValPreds\", \"learnToolsVersion\": \"0.3.4\", \"valueTowardsCompletion\": 0.0, \"exceptionClass\": \"\", \"trace\": \"\"}}, \"*\")"
      ],
      "text/plain": [
       "<IPython.core.display.Javascript object>"
      ]
     },
     "metadata": {},
     "output_type": "display_data"
    },
    {
     "data": {
      "text/markdown": [
       "<span style=\"color:#cc3333\">Incorrect:</span> You still need to define the following variables: `val_X`"
      ],
      "text/plain": [
       "Incorrect: You still need to define the following variables: `val_X`"
      ]
     },
     "metadata": {},
     "output_type": "display_data"
    }
   ],
   "source": [
    "# Predict with all validation observations\n",
    "val_predictions = ____\n",
    "\n",
    "# Check your answer\n",
    "step_3.check()"
   ]
  },
  {
   "cell_type": "code",
   "execution_count": 7,
   "id": "48139e46",
   "metadata": {
    "execution": {
     "iopub.execute_input": "2023-01-24T20:21:31.420759Z",
     "iopub.status.busy": "2023-01-24T20:21:31.420311Z",
     "iopub.status.idle": "2023-01-24T20:21:31.423583Z",
     "shell.execute_reply": "2023-01-24T20:21:31.422906Z"
    },
    "papermill": {
     "duration": 0.012423,
     "end_time": "2023-01-24T20:21:31.425766",
     "exception": false,
     "start_time": "2023-01-24T20:21:31.413343",
     "status": "completed"
    },
    "tags": []
   },
   "outputs": [],
   "source": [
    "# step_3.hint()\n",
    "# step_3.solution()"
   ]
  },
  {
   "cell_type": "markdown",
   "id": "f563fe12",
   "metadata": {
    "papermill": {
     "duration": 0.004923,
     "end_time": "2023-01-24T20:21:31.436999",
     "exception": false,
     "start_time": "2023-01-24T20:21:31.432076",
     "status": "completed"
    },
    "tags": []
   },
   "source": [
    "Inspect your predictions and actual values from validation data."
   ]
  },
  {
   "cell_type": "code",
   "execution_count": 8,
   "id": "a7392f25",
   "metadata": {
    "execution": {
     "iopub.execute_input": "2023-01-24T20:21:31.449959Z",
     "iopub.status.busy": "2023-01-24T20:21:31.449206Z",
     "iopub.status.idle": "2023-01-24T20:21:31.454057Z",
     "shell.execute_reply": "2023-01-24T20:21:31.453291Z"
    },
    "papermill": {
     "duration": 0.013806,
     "end_time": "2023-01-24T20:21:31.455977",
     "exception": false,
     "start_time": "2023-01-24T20:21:31.442171",
     "status": "completed"
    },
    "tags": []
   },
   "outputs": [
    {
     "name": "stdout",
     "output_type": "stream",
     "text": [
      "<learntools.core.constants.PlaceholderValue object at 0x7fa61e37e1d0>\n",
      "<learntools.core.constants.PlaceholderValue object at 0x7fa61e37e1d0>\n"
     ]
    }
   ],
   "source": [
    "# print the top few validation predictions\n",
    "print(____)\n",
    "# print the top few actual prices from validation data\n",
    "print(____)"
   ]
  },
  {
   "cell_type": "markdown",
   "id": "48d3a672",
   "metadata": {
    "papermill": {
     "duration": 0.004882,
     "end_time": "2023-01-24T20:21:31.466259",
     "exception": false,
     "start_time": "2023-01-24T20:21:31.461377",
     "status": "completed"
    },
    "tags": []
   },
   "source": [
    "What do you notice that is different from what you saw with in-sample predictions (which are printed after the top code cell in this page).\n",
    "\n",
    "Do you remember why validation predictions differ from in-sample (or training) predictions? This is an important idea from the last lesson.\n",
    "\n",
    "## Step 4: Calculate the Mean Absolute Error in Validation Data\n"
   ]
  },
  {
   "cell_type": "code",
   "execution_count": 9,
   "id": "84244538",
   "metadata": {
    "execution": {
     "iopub.execute_input": "2023-01-24T20:21:31.479107Z",
     "iopub.status.busy": "2023-01-24T20:21:31.478439Z",
     "iopub.status.idle": "2023-01-24T20:21:31.487164Z",
     "shell.execute_reply": "2023-01-24T20:21:31.486335Z"
    },
    "papermill": {
     "duration": 0.018792,
     "end_time": "2023-01-24T20:21:31.490207",
     "exception": false,
     "start_time": "2023-01-24T20:21:31.471415",
     "status": "completed"
    },
    "tags": []
   },
   "outputs": [
    {
     "data": {
      "application/javascript": [
       "parent.postMessage({\"jupyterEvent\": \"custom.exercise_interaction\", \"data\": {\"outcomeType\": 4, \"interactionType\": 1, \"questionType\": 1, \"questionId\": \"4_MAE\", \"learnToolsVersion\": \"0.3.4\", \"valueTowardsCompletion\": 0.0, \"failureMessage\": \"\", \"exceptionClass\": \"\", \"trace\": \"\"}}, \"*\")"
      ],
      "text/plain": [
       "<IPython.core.display.Javascript object>"
      ]
     },
     "metadata": {},
     "output_type": "display_data"
    },
    {
     "data": {
      "text/markdown": [
       "<span style=\"color:#ccaa33\">Check:</span> When you've updated the starter code, `check()` will tell you whether your code is correct. You need to update the code that creates variable `val_mae`"
      ],
      "text/plain": [
       "Check: When you've updated the starter code, `check()` will tell you whether your code is correct. You need to update the code that creates variable `val_mae`"
      ]
     },
     "metadata": {},
     "output_type": "display_data"
    }
   ],
   "source": [
    "from sklearn.metrics import mean_absolute_error\n",
    "val_mae = ____\n",
    "\n",
    "# uncomment following line to see the validation_mae\n",
    "#print(val_mae)\n",
    "\n",
    "# Check your answer\n",
    "step_4.check()"
   ]
  },
  {
   "cell_type": "code",
   "execution_count": 10,
   "id": "2bf9df83",
   "metadata": {
    "execution": {
     "iopub.execute_input": "2023-01-24T20:21:31.504328Z",
     "iopub.status.busy": "2023-01-24T20:21:31.503599Z",
     "iopub.status.idle": "2023-01-24T20:21:31.508540Z",
     "shell.execute_reply": "2023-01-24T20:21:31.506853Z"
    },
    "papermill": {
     "duration": 0.014942,
     "end_time": "2023-01-24T20:21:31.511008",
     "exception": false,
     "start_time": "2023-01-24T20:21:31.496066",
     "status": "completed"
    },
    "tags": []
   },
   "outputs": [],
   "source": [
    "# step_4.hint()\n",
    "# step_4.solution()"
   ]
  },
  {
   "cell_type": "markdown",
   "id": "a5776bb7",
   "metadata": {
    "papermill": {
     "duration": 0.004958,
     "end_time": "2023-01-24T20:21:31.521686",
     "exception": false,
     "start_time": "2023-01-24T20:21:31.516728",
     "status": "completed"
    },
    "tags": []
   },
   "source": [
    "Is that MAE good?  There isn't a general rule for what values are good that applies across applications. But you'll see how to use (and improve) this number in the next step.\n",
    "\n",
    "# Keep Going\n",
    "\n",
    "You are ready for **[Underfitting and Overfitting](https://www.kaggle.com/dansbecker/underfitting-and-overfitting).**\n"
   ]
  },
  {
   "cell_type": "markdown",
   "id": "f507d8d6",
   "metadata": {
    "papermill": {
     "duration": 0.004828,
     "end_time": "2023-01-24T20:21:31.531879",
     "exception": false,
     "start_time": "2023-01-24T20:21:31.527051",
     "status": "completed"
    },
    "tags": []
   },
   "source": [
    "---\n",
    "\n",
    "\n",
    "\n",
    "\n",
    "*Have questions or comments? Visit the [course discussion forum](https://www.kaggle.com/learn/intro-to-machine-learning/discussion) to chat with other learners.*"
   ]
  }
 ],
 "metadata": {
  "kernelspec": {
   "display_name": "Python 3",
   "language": "python",
   "name": "python3"
  },
  "language_info": {
   "codemirror_mode": {
    "name": "ipython",
    "version": 3
   },
   "file_extension": ".py",
   "mimetype": "text/x-python",
   "name": "python",
   "nbconvert_exporter": "python",
   "pygments_lexer": "ipython3",
   "version": "3.7.12"
  },
  "papermill": {
   "default_parameters": {},
   "duration": 11.870627,
   "end_time": "2023-01-24T20:21:32.566080",
   "environment_variables": {},
   "exception": null,
   "input_path": "__notebook__.ipynb",
   "output_path": "__notebook__.ipynb",
   "parameters": {},
   "start_time": "2023-01-24T20:21:20.695453",
   "version": "2.3.4"
  }
 },
 "nbformat": 4,
 "nbformat_minor": 5
}
