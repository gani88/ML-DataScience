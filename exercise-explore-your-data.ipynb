{
 "cells": [
  {
   "cell_type": "markdown",
   "id": "dfe8e3c0",
   "metadata": {
    "papermill": {
     "duration": 0.00368,
     "end_time": "2023-01-20T22:02:26.589189",
     "exception": false,
     "start_time": "2023-01-20T22:02:26.585509",
     "status": "completed"
    },
    "tags": []
   },
   "source": [
    "**[Machine Learning Course Home Page](https://www.kaggle.com/learn/machine-learning)**\n",
    "\n",
    "---\n"
   ]
  },
  {
   "cell_type": "markdown",
   "id": "dc0984c4",
   "metadata": {
    "papermill": {
     "duration": 0.002484,
     "end_time": "2023-01-20T22:02:26.594644",
     "exception": false,
     "start_time": "2023-01-20T22:02:26.592160",
     "status": "completed"
    },
    "tags": []
   },
   "source": [
    "This exercise will test your ability to read a data file and understand statistics about the data.\n",
    "\n",
    "In later exercises, you will apply techniques to filter the data, build a machine learning model, and iteratively improve your model.\n",
    "\n",
    "The course examples use data from Melbourne. To ensure you can apply these techniques on your own, you will have to apply them to a new dataset (with house prices from Iowa).\n",
    "\n",
    "The exercises use a \"notebook\" coding environment.  In case you are unfamiliar with notebooks, we have a [90-second intro video](https://www.youtube.com/watch?v=4C2qMnaIKL4).\n",
    "\n",
    "# Exercises\n",
    "\n",
    "Run the following cell to set up code-checking, which will verify your work as you go."
   ]
  },
  {
   "cell_type": "code",
   "execution_count": 1,
   "id": "c77af3fc",
   "metadata": {
    "collapsed": true,
    "execution": {
     "iopub.execute_input": "2023-01-20T22:02:26.602537Z",
     "iopub.status.busy": "2023-01-20T22:02:26.601506Z",
     "iopub.status.idle": "2023-01-20T22:02:26.646969Z",
     "shell.execute_reply": "2023-01-20T22:02:26.645685Z"
    },
    "jupyter": {
     "outputs_hidden": true
    },
    "papermill": {
     "duration": 0.052212,
     "end_time": "2023-01-20T22:02:26.649459",
     "exception": false,
     "start_time": "2023-01-20T22:02:26.597247",
     "status": "completed"
    },
    "tags": []
   },
   "outputs": [
    {
     "name": "stdout",
     "output_type": "stream",
     "text": [
      "Setup Complete\n"
     ]
    }
   ],
   "source": [
    "# Set up code checking\n",
    "from learntools.core import binder\n",
    "binder.bind(globals())\n",
    "from learntools.machine_learning.ex2 import *\n",
    "print(\"Setup Complete\")"
   ]
  },
  {
   "cell_type": "markdown",
   "id": "74db8b97",
   "metadata": {
    "papermill": {
     "duration": 0.002854,
     "end_time": "2023-01-20T22:02:26.655860",
     "exception": false,
     "start_time": "2023-01-20T22:02:26.653006",
     "status": "completed"
    },
    "tags": []
   },
   "source": [
    "## Step 1: Loading Data\n",
    "Read the Iowa data file into a Pandas DataFrame called `home_data`."
   ]
  },
  {
   "cell_type": "code",
   "execution_count": 2,
   "id": "129aa3ea",
   "metadata": {
    "collapsed": true,
    "execution": {
     "iopub.execute_input": "2023-01-20T22:02:26.662921Z",
     "iopub.status.busy": "2023-01-20T22:02:26.662606Z",
     "iopub.status.idle": "2023-01-20T22:02:26.673707Z",
     "shell.execute_reply": "2023-01-20T22:02:26.672704Z"
    },
    "jupyter": {
     "outputs_hidden": true
    },
    "papermill": {
     "duration": 0.016982,
     "end_time": "2023-01-20T22:02:26.675718",
     "exception": false,
     "start_time": "2023-01-20T22:02:26.658736",
     "status": "completed"
    },
    "tags": []
   },
   "outputs": [
    {
     "data": {
      "application/javascript": [
       "parent.postMessage({\"jupyterEvent\": \"custom.exercise_interaction\", \"data\": {\"outcomeType\": 4, \"interactionType\": 1, \"questionType\": 1, \"questionId\": \"1_LoadHomeData\", \"learnToolsVersion\": \"0.3.4\", \"valueTowardsCompletion\": 0.0, \"failureMessage\": \"\", \"exceptionClass\": \"\", \"trace\": \"\"}}, \"*\")"
      ],
      "text/plain": [
       "<IPython.core.display.Javascript object>"
      ]
     },
     "metadata": {},
     "output_type": "display_data"
    },
    {
     "data": {
      "text/markdown": [
       "<span style=\"color:#ccaa33\">Check:</span> When you've updated the starter code, `check()` will tell you whether your code is correct. You need to update the code that creates variable `home_data`"
      ],
      "text/plain": [
       "Check: When you've updated the starter code, `check()` will tell you whether your code is correct. You need to update the code that creates variable `home_data`"
      ]
     },
     "metadata": {},
     "output_type": "display_data"
    }
   ],
   "source": [
    "import pandas as pd\n",
    "\n",
    "# Path of the file to read\n",
    "iowa_file_path = '../input/home-data-for-ml-course/train.csv'\n",
    "\n",
    "# Fill in the line below to read the file into a variable home_data\n",
    "home_data = ____\n",
    "\n",
    "# Call line below with no argument to check that you've loaded the data correctly\n",
    "step_1.check()"
   ]
  },
  {
   "cell_type": "code",
   "execution_count": 3,
   "id": "70d074c5",
   "metadata": {
    "collapsed": true,
    "execution": {
     "iopub.execute_input": "2023-01-20T22:02:26.683342Z",
     "iopub.status.busy": "2023-01-20T22:02:26.683021Z",
     "iopub.status.idle": "2023-01-20T22:02:26.688005Z",
     "shell.execute_reply": "2023-01-20T22:02:26.686534Z"
    },
    "jupyter": {
     "outputs_hidden": true
    },
    "papermill": {
     "duration": 0.01192,
     "end_time": "2023-01-20T22:02:26.690909",
     "exception": false,
     "start_time": "2023-01-20T22:02:26.678989",
     "status": "completed"
    },
    "tags": []
   },
   "outputs": [],
   "source": [
    "# Lines below will give you a hint or solution code\n",
    "#step_1.hint()\n",
    "#step_1.solution()"
   ]
  },
  {
   "cell_type": "markdown",
   "id": "9a480f2f",
   "metadata": {
    "papermill": {
     "duration": 0.002997,
     "end_time": "2023-01-20T22:02:26.697626",
     "exception": false,
     "start_time": "2023-01-20T22:02:26.694629",
     "status": "completed"
    },
    "tags": []
   },
   "source": [
    "## Step 2: Review The Data\n",
    "Use the command you learned to view summary statistics of the data. Then fill in variables to answer the following questions"
   ]
  },
  {
   "cell_type": "code",
   "execution_count": 4,
   "id": "9b389d44",
   "metadata": {
    "collapsed": true,
    "execution": {
     "iopub.execute_input": "2023-01-20T22:02:26.705710Z",
     "iopub.status.busy": "2023-01-20T22:02:26.705309Z",
     "iopub.status.idle": "2023-01-20T22:02:26.712298Z",
     "shell.execute_reply": "2023-01-20T22:02:26.711220Z"
    },
    "jupyter": {
     "outputs_hidden": true
    },
    "papermill": {
     "duration": 0.013352,
     "end_time": "2023-01-20T22:02:26.714252",
     "exception": false,
     "start_time": "2023-01-20T22:02:26.700900",
     "status": "completed"
    },
    "tags": []
   },
   "outputs": [
    {
     "data": {
      "text/markdown": [],
      "text/plain": [
       "<learntools.core.constants.PlaceholderValue at 0x7faafc056390>"
      ]
     },
     "execution_count": 4,
     "metadata": {},
     "output_type": "execute_result"
    }
   ],
   "source": [
    "# Print summary statistics in next line\n",
    "____"
   ]
  },
  {
   "cell_type": "code",
   "execution_count": 5,
   "id": "db524cb2",
   "metadata": {
    "execution": {
     "iopub.execute_input": "2023-01-20T22:02:26.723241Z",
     "iopub.status.busy": "2023-01-20T22:02:26.722898Z",
     "iopub.status.idle": "2023-01-20T22:02:26.730483Z",
     "shell.execute_reply": "2023-01-20T22:02:26.729612Z"
    },
    "papermill": {
     "duration": 0.014846,
     "end_time": "2023-01-20T22:02:26.732712",
     "exception": false,
     "start_time": "2023-01-20T22:02:26.717866",
     "status": "completed"
    },
    "tags": []
   },
   "outputs": [
    {
     "data": {
      "application/javascript": [
       "parent.postMessage({\"jupyterEvent\": \"custom.exercise_interaction\", \"data\": {\"outcomeType\": 4, \"interactionType\": 1, \"questionType\": 1, \"questionId\": \"2_HomeDescription\", \"learnToolsVersion\": \"0.3.4\", \"valueTowardsCompletion\": 0.0, \"failureMessage\": \"\", \"exceptionClass\": \"\", \"trace\": \"\"}}, \"*\")"
      ],
      "text/plain": [
       "<IPython.core.display.Javascript object>"
      ]
     },
     "metadata": {},
     "output_type": "display_data"
    },
    {
     "data": {
      "text/markdown": [
       "<span style=\"color:#ccaa33\">Check:</span> When you've updated the starter code, `check()` will tell you whether your code is correct. You need to update the code that creates variables `avg_lot_size`, `newest_home_age`"
      ],
      "text/plain": [
       "Check: When you've updated the starter code, `check()` will tell you whether your code is correct. You need to update the code that creates variables `avg_lot_size`, `newest_home_age`"
      ]
     },
     "metadata": {},
     "output_type": "display_data"
    }
   ],
   "source": [
    "# What is the average lot size (rounded to nearest integer)?\n",
    "avg_lot_size = ____\n",
    "\n",
    "# As of today, how old is the newest home (current year - the date in which it was built)\n",
    "newest_home_age = ____\n",
    "\n",
    "# Checks your answers\n",
    "step_2.check()"
   ]
  },
  {
   "cell_type": "code",
   "execution_count": 6,
   "id": "680840cc",
   "metadata": {
    "collapsed": true,
    "execution": {
     "iopub.execute_input": "2023-01-20T22:02:26.741987Z",
     "iopub.status.busy": "2023-01-20T22:02:26.741627Z",
     "iopub.status.idle": "2023-01-20T22:02:26.746638Z",
     "shell.execute_reply": "2023-01-20T22:02:26.745333Z"
    },
    "jupyter": {
     "outputs_hidden": true
    },
    "papermill": {
     "duration": 0.012908,
     "end_time": "2023-01-20T22:02:26.749578",
     "exception": false,
     "start_time": "2023-01-20T22:02:26.736670",
     "status": "completed"
    },
    "tags": []
   },
   "outputs": [],
   "source": [
    "#step_2.hint()\n",
    "#step_2.solution()"
   ]
  },
  {
   "cell_type": "markdown",
   "id": "057fbb35",
   "metadata": {
    "papermill": {
     "duration": 0.003478,
     "end_time": "2023-01-20T22:02:26.756929",
     "exception": false,
     "start_time": "2023-01-20T22:02:26.753451",
     "status": "completed"
    },
    "tags": []
   },
   "source": [
    "## Think About Your Data\n",
    "\n",
    "The newest house in your data isn't that new.  A few potential explanations for this:\n",
    "1. They haven't built new houses where this data was collected.\n",
    "1. The data was collected a long time ago. Houses built after the data publication wouldn't show up.\n",
    "\n",
    "If the reason is explanation #1 above, does that affect your trust in the model you build with this data? What about if it is reason #2?\n",
    "\n",
    "How could you dig into the data to see which explanation is more plausible?\n",
    "\n",
    "Check out this **[discussion thread](https://www.kaggle.com/learn-forum/60581)** to see what others think or to add your ideas.\n",
    "\n",
    "# Keep Going\n",
    "\n",
    "You are ready for **[Your First Machine Learning Model](https://www.kaggle.com/dansbecker/your-first-machine-learning-model).**\n"
   ]
  },
  {
   "cell_type": "markdown",
   "id": "57a3d365",
   "metadata": {
    "papermill": {
     "duration": 0.003392,
     "end_time": "2023-01-20T22:02:26.764135",
     "exception": false,
     "start_time": "2023-01-20T22:02:26.760743",
     "status": "completed"
    },
    "tags": []
   },
   "source": [
    "---\n",
    "**[Machine Learning Course Home Page](https://www.kaggle.com/learn/machine-learning)**\n",
    "\n"
   ]
  }
 ],
 "metadata": {
  "kernelspec": {
   "display_name": "Python 3",
   "language": "python",
   "name": "python3"
  },
  "language_info": {
   "codemirror_mode": {
    "name": "ipython",
    "version": 3
   },
   "file_extension": ".py",
   "mimetype": "text/x-python",
   "name": "python",
   "nbconvert_exporter": "python",
   "pygments_lexer": "ipython3",
   "version": "3.7.12"
  },
  "papermill": {
   "default_parameters": {},
   "duration": 10.988612,
   "end_time": "2023-01-20T22:02:30.338200",
   "environment_variables": {},
   "exception": null,
   "input_path": "__notebook__.ipynb",
   "output_path": "__notebook__.ipynb",
   "parameters": {},
   "start_time": "2023-01-20T22:02:19.349588",
   "version": "2.3.4"
  }
 },
 "nbformat": 4,
 "nbformat_minor": 5
}
