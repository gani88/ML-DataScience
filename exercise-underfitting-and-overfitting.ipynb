{
 "cells": [
  {
   "cell_type": "markdown",
   "id": "83c1c9d0",
   "metadata": {
    "papermill": {
     "duration": 0.004451,
     "end_time": "2023-01-26T22:09:45.418441",
     "exception": false,
     "start_time": "2023-01-26T22:09:45.413990",
     "status": "completed"
    },
    "tags": []
   },
   "source": [
    "**This notebook is an exercise in the [Introduction to Machine Learning](https://www.kaggle.com/learn/intro-to-machine-learning) course.  You can reference the tutorial at [this link](https://www.kaggle.com/dansbecker/underfitting-and-overfitting).**\n",
    "\n",
    "---\n"
   ]
  },
  {
   "cell_type": "markdown",
   "id": "1edb7272",
   "metadata": {
    "papermill": {
     "duration": 0.002945,
     "end_time": "2023-01-26T22:09:45.424920",
     "exception": false,
     "start_time": "2023-01-26T22:09:45.421975",
     "status": "completed"
    },
    "tags": []
   },
   "source": [
    "## Recap\n",
    "You've built your first model, and now it's time to optimize the size of the tree to make better predictions. Run this cell to set up your coding environment where the previous step left off."
   ]
  },
  {
   "cell_type": "code",
   "execution_count": 1,
   "id": "e7afa851",
   "metadata": {
    "execution": {
     "iopub.execute_input": "2023-01-26T22:09:45.433474Z",
     "iopub.status.busy": "2023-01-26T22:09:45.432752Z",
     "iopub.status.idle": "2023-01-26T22:09:46.801586Z",
     "shell.execute_reply": "2023-01-26T22:09:46.800443Z"
    },
    "papermill": {
     "duration": 1.376842,
     "end_time": "2023-01-26T22:09:46.804911",
     "exception": false,
     "start_time": "2023-01-26T22:09:45.428069",
     "status": "completed"
    },
    "tags": []
   },
   "outputs": [
    {
     "name": "stdout",
     "output_type": "stream",
     "text": [
      "Validation MAE: 29,653\n",
      "\n",
      "Setup complete\n"
     ]
    }
   ],
   "source": [
    "# Code you have previously used to load data\n",
    "import pandas as pd\n",
    "from sklearn.metrics import mean_absolute_error\n",
    "from sklearn.model_selection import train_test_split\n",
    "from sklearn.tree import DecisionTreeRegressor\n",
    "\n",
    "\n",
    "# Path of the file to read\n",
    "iowa_file_path = '../input/home-data-for-ml-course/train.csv'\n",
    "\n",
    "home_data = pd.read_csv(iowa_file_path)\n",
    "# Create target object and call it y\n",
    "y = home_data.SalePrice\n",
    "# Create X\n",
    "features = ['LotArea', 'YearBuilt', '1stFlrSF', '2ndFlrSF', 'FullBath', 'BedroomAbvGr', 'TotRmsAbvGrd']\n",
    "X = home_data[features]\n",
    "\n",
    "# Split into validation and training data\n",
    "train_X, val_X, train_y, val_y = train_test_split(X, y, random_state=1)\n",
    "\n",
    "# Specify Model\n",
    "iowa_model = DecisionTreeRegressor(random_state=1)\n",
    "# Fit Model\n",
    "iowa_model.fit(train_X, train_y)\n",
    "\n",
    "# Make validation predictions and calculate mean absolute error\n",
    "val_predictions = iowa_model.predict(val_X)\n",
    "val_mae = mean_absolute_error(val_predictions, val_y)\n",
    "print(\"Validation MAE: {:,.0f}\".format(val_mae))\n",
    "\n",
    "# Set up code checking\n",
    "from learntools.core import binder\n",
    "binder.bind(globals())\n",
    "from learntools.machine_learning.ex5 import *\n",
    "print(\"\\nSetup complete\")"
   ]
  },
  {
   "cell_type": "markdown",
   "id": "e8f3b8b9",
   "metadata": {
    "papermill": {
     "duration": 0.003351,
     "end_time": "2023-01-26T22:09:46.812710",
     "exception": false,
     "start_time": "2023-01-26T22:09:46.809359",
     "status": "completed"
    },
    "tags": []
   },
   "source": [
    "# Exercises\n",
    "You could write the function `get_mae` yourself. For now, we'll supply it. This is the same function you read about in the previous lesson. Just run the cell below."
   ]
  },
  {
   "cell_type": "code",
   "execution_count": 2,
   "id": "f18c1ba2",
   "metadata": {
    "execution": {
     "iopub.execute_input": "2023-01-26T22:09:46.821469Z",
     "iopub.status.busy": "2023-01-26T22:09:46.821012Z",
     "iopub.status.idle": "2023-01-26T22:09:46.827422Z",
     "shell.execute_reply": "2023-01-26T22:09:46.826201Z"
    },
    "papermill": {
     "duration": 0.01347,
     "end_time": "2023-01-26T22:09:46.829671",
     "exception": false,
     "start_time": "2023-01-26T22:09:46.816201",
     "status": "completed"
    },
    "tags": []
   },
   "outputs": [],
   "source": [
    "def get_mae(max_leaf_nodes, train_X, val_X, train_y, val_y):\n",
    "    model = DecisionTreeRegressor(max_leaf_nodes=max_leaf_nodes, random_state=0)\n",
    "    model.fit(train_X, train_y)\n",
    "    preds_val = model.predict(val_X)\n",
    "    mae = mean_absolute_error(val_y, preds_val)\n",
    "    return(mae)"
   ]
  },
  {
   "cell_type": "markdown",
   "id": "879c2f3f",
   "metadata": {
    "papermill": {
     "duration": 0.004041,
     "end_time": "2023-01-26T22:09:46.837289",
     "exception": false,
     "start_time": "2023-01-26T22:09:46.833248",
     "status": "completed"
    },
    "tags": []
   },
   "source": [
    "## Step 1: Compare Different Tree Sizes\n",
    "Write a loop that tries the following values for *max_leaf_nodes* from a set of possible values.\n",
    "\n",
    "Call the *get_mae* function on each value of max_leaf_nodes. Store the output in some way that allows you to select the value of `max_leaf_nodes` that gives the most accurate model on your data."
   ]
  },
  {
   "cell_type": "code",
   "execution_count": 3,
   "id": "eab4713f",
   "metadata": {
    "execution": {
     "iopub.execute_input": "2023-01-26T22:09:46.846420Z",
     "iopub.status.busy": "2023-01-26T22:09:46.845734Z",
     "iopub.status.idle": "2023-01-26T22:09:46.893332Z",
     "shell.execute_reply": "2023-01-26T22:09:46.892166Z"
    },
    "papermill": {
     "duration": 0.055098,
     "end_time": "2023-01-26T22:09:46.895839",
     "exception": false,
     "start_time": "2023-01-26T22:09:46.840741",
     "status": "completed"
    },
    "tags": []
   },
   "outputs": [
    {
     "data": {
      "application/javascript": [
       "parent.postMessage({\"jupyterEvent\": \"custom.exercise_interaction\", \"data\": {\"outcomeType\": 1, \"valueTowardsCompletion\": 0.5, \"interactionType\": 1, \"questionType\": 1, \"questionId\": \"1_BestTreeSize\", \"learnToolsVersion\": \"0.3.4\", \"failureMessage\": \"\", \"exceptionClass\": \"\", \"trace\": \"\"}}, \"*\")"
      ],
      "text/plain": [
       "<IPython.core.display.Javascript object>"
      ]
     },
     "metadata": {},
     "output_type": "display_data"
    },
    {
     "data": {
      "text/markdown": [
       "<span style=\"color:#33cc33\">Correct</span>"
      ],
      "text/plain": [
       "Correct"
      ]
     },
     "metadata": {},
     "output_type": "display_data"
    }
   ],
   "source": [
    "candidate_max_leaf_nodes = [5, 25, 50, 100, 250, 500]\n",
    "# Write loop to find the ideal tree size from candidate_max_leaf_nodes\n",
    "#for max_leaf in candidate_max_leaf_nodes:\n",
    "#    mae = get_mae(max_leaf, train_X, val_X, train_y, val_y)\n",
    "#    print(\"Max leaf nodes: %d  \\t\\t Mean Absolute Error:  %d\" %(max_leaf, mae))\n",
    "\n",
    "scores = {leaf_size: get_mae(leaf_size, train_X, val_X, train_y, val_y) for leaf_size in candidate_max_leaf_nodes}\n",
    "\n",
    "# Store the best value of max_leaf_nodes (it will be either 5, 25, 50, 100, 250 or 500)\n",
    "best_tree_size = min(scores, key=scores.get)\n",
    "\n",
    "# Check your answer\n",
    "step_1.check()"
   ]
  },
  {
   "cell_type": "code",
   "execution_count": 4,
   "id": "6128eb0b",
   "metadata": {
    "execution": {
     "iopub.execute_input": "2023-01-26T22:09:46.905388Z",
     "iopub.status.busy": "2023-01-26T22:09:46.904972Z",
     "iopub.status.idle": "2023-01-26T22:09:46.917987Z",
     "shell.execute_reply": "2023-01-26T22:09:46.916914Z"
    },
    "papermill": {
     "duration": 0.020729,
     "end_time": "2023-01-26T22:09:46.920351",
     "exception": false,
     "start_time": "2023-01-26T22:09:46.899622",
     "status": "completed"
    },
    "tags": []
   },
   "outputs": [
    {
     "data": {
      "application/javascript": [
       "parent.postMessage({\"jupyterEvent\": \"custom.exercise_interaction\", \"data\": {\"interactionType\": 2, \"questionType\": 1, \"questionId\": \"1_BestTreeSize\", \"learnToolsVersion\": \"0.3.4\", \"valueTowardsCompletion\": 0.0, \"failureMessage\": \"\", \"exceptionClass\": \"\", \"trace\": \"\", \"outcomeType\": 4}}, \"*\")"
      ],
      "text/plain": [
       "<IPython.core.display.Javascript object>"
      ]
     },
     "metadata": {},
     "output_type": "display_data"
    },
    {
     "data": {
      "text/markdown": [
       "<span style=\"color:#3366cc\">Hint:</span> You will call get_mae in the loop. You'll need to map the names of your data structure to the names in get_mae"
      ],
      "text/plain": [
       "Hint: You will call get_mae in the loop. You'll need to map the names of your data structure to the names in get_mae"
      ]
     },
     "metadata": {},
     "output_type": "display_data"
    },
    {
     "data": {
      "application/javascript": [
       "parent.postMessage({\"jupyterEvent\": \"custom.exercise_interaction\", \"data\": {\"interactionType\": 3, \"questionType\": 1, \"questionId\": \"1_BestTreeSize\", \"learnToolsVersion\": \"0.3.4\", \"valueTowardsCompletion\": 0.0, \"failureMessage\": \"\", \"exceptionClass\": \"\", \"trace\": \"\", \"outcomeType\": 4}}, \"*\")"
      ],
      "text/plain": [
       "<IPython.core.display.Javascript object>"
      ]
     },
     "metadata": {},
     "output_type": "display_data"
    },
    {
     "data": {
      "text/markdown": [
       "<span style=\"color:#33cc99\">Solution:</span> \n",
       "```python\n",
       "# Here is a short solution with a dict comprehension.\n",
       "# The lesson gives an example of how to do this with an explicit loop.\n",
       "scores = {leaf_size: get_mae(leaf_size, train_X, val_X, train_y, val_y) for leaf_size in candidate_max_leaf_nodes}\n",
       "best_tree_size = min(scores, key=scores.get)\n",
       "\n",
       "```"
      ],
      "text/plain": [
       "Solution: \n",
       "```python\n",
       "# Here is a short solution with a dict comprehension.\n",
       "# The lesson gives an example of how to do this with an explicit loop.\n",
       "scores = {leaf_size: get_mae(leaf_size, train_X, val_X, train_y, val_y) for leaf_size in candidate_max_leaf_nodes}\n",
       "best_tree_size = min(scores, key=scores.get)\n",
       "\n",
       "```"
      ]
     },
     "metadata": {},
     "output_type": "display_data"
    }
   ],
   "source": [
    "# The lines below will show you a hint or the solution.\n",
    "step_1.hint() \n",
    "step_1.solution()"
   ]
  },
  {
   "cell_type": "markdown",
   "id": "8fd881bd",
   "metadata": {
    "papermill": {
     "duration": 0.003947,
     "end_time": "2023-01-26T22:09:46.928592",
     "exception": false,
     "start_time": "2023-01-26T22:09:46.924645",
     "status": "completed"
    },
    "tags": []
   },
   "source": [
    "## Step 2: Fit Model Using All Data\n",
    "You know the best tree size. If you were going to deploy this model in practice, you would make it even more accurate by using all of the data and keeping that tree size.  That is, you don't need to hold out the validation data now that you've made all your modeling decisions."
   ]
  },
  {
   "cell_type": "code",
   "execution_count": 5,
   "id": "6801e1df",
   "metadata": {
    "execution": {
     "iopub.execute_input": "2023-01-26T22:09:46.938954Z",
     "iopub.status.busy": "2023-01-26T22:09:46.938547Z",
     "iopub.status.idle": "2023-01-26T22:09:46.947715Z",
     "shell.execute_reply": "2023-01-26T22:09:46.946618Z"
    },
    "papermill": {
     "duration": 0.017245,
     "end_time": "2023-01-26T22:09:46.950140",
     "exception": false,
     "start_time": "2023-01-26T22:09:46.932895",
     "status": "completed"
    },
    "tags": []
   },
   "outputs": [
    {
     "data": {
      "application/javascript": [
       "parent.postMessage({\"jupyterEvent\": \"custom.exercise_interaction\", \"data\": {\"outcomeType\": 2, \"failureMessage\": \"You still need to define the following variables: `final_model`\", \"interactionType\": 1, \"questionType\": 2, \"questionId\": \"2_FitModelWithAllData\", \"learnToolsVersion\": \"0.3.4\", \"valueTowardsCompletion\": 0.0, \"exceptionClass\": \"\", \"trace\": \"\"}}, \"*\")"
      ],
      "text/plain": [
       "<IPython.core.display.Javascript object>"
      ]
     },
     "metadata": {},
     "output_type": "display_data"
    },
    {
     "data": {
      "text/markdown": [
       "<span style=\"color:#cc3333\">Incorrect:</span> You still need to define the following variables: `final_model`"
      ],
      "text/plain": [
       "Incorrect: You still need to define the following variables: `final_model`"
      ]
     },
     "metadata": {},
     "output_type": "display_data"
    }
   ],
   "source": [
    "# Fill in argument to make optimal size and uncomment\n",
    "# final_model = DecisionTreeRegressor(____)\n",
    "\n",
    "# fit the final model and uncomment the next two lines\n",
    "# final_model.fit(____, ____)\n",
    "\n",
    "# Check your answer\n",
    "step_2.check()"
   ]
  },
  {
   "cell_type": "code",
   "execution_count": 6,
   "id": "ac49c189",
   "metadata": {
    "execution": {
     "iopub.execute_input": "2023-01-26T22:09:46.961053Z",
     "iopub.status.busy": "2023-01-26T22:09:46.960619Z",
     "iopub.status.idle": "2023-01-26T22:09:46.965159Z",
     "shell.execute_reply": "2023-01-26T22:09:46.964146Z"
    },
    "papermill": {
     "duration": 0.012789,
     "end_time": "2023-01-26T22:09:46.967482",
     "exception": false,
     "start_time": "2023-01-26T22:09:46.954693",
     "status": "completed"
    },
    "tags": []
   },
   "outputs": [],
   "source": [
    "# step_2.hint()\n",
    "# step_2.solution()"
   ]
  },
  {
   "cell_type": "markdown",
   "id": "fb7eb2e4",
   "metadata": {
    "papermill": {
     "duration": 0.004235,
     "end_time": "2023-01-26T22:09:46.976328",
     "exception": false,
     "start_time": "2023-01-26T22:09:46.972093",
     "status": "completed"
    },
    "tags": []
   },
   "source": [
    "You've tuned this model and improved your results. But we are still using Decision Tree models, which are not very sophisticated by modern machine learning standards. In the next step you will learn to use Random Forests to improve your models even more.\n",
    "\n",
    "# Keep Going\n",
    "\n",
    "You are ready for **[Random Forests](https://www.kaggle.com/dansbecker/random-forests).**\n"
   ]
  },
  {
   "cell_type": "markdown",
   "id": "c11b38ce",
   "metadata": {
    "papermill": {
     "duration": 0.004233,
     "end_time": "2023-01-26T22:09:46.985056",
     "exception": false,
     "start_time": "2023-01-26T22:09:46.980823",
     "status": "completed"
    },
    "tags": []
   },
   "source": [
    "---\n",
    "\n",
    "\n",
    "\n",
    "\n",
    "*Have questions or comments? Visit the [course discussion forum](https://www.kaggle.com/learn/intro-to-machine-learning/discussion) to chat with other learners.*"
   ]
  }
 ],
 "metadata": {
  "kernelspec": {
   "display_name": "Python 3",
   "language": "python",
   "name": "python3"
  },
  "language_info": {
   "codemirror_mode": {
    "name": "ipython",
    "version": 3
   },
   "file_extension": ".py",
   "mimetype": "text/x-python",
   "name": "python",
   "nbconvert_exporter": "python",
   "pygments_lexer": "ipython3",
   "version": "3.7.12"
  },
  "papermill": {
   "default_parameters": {},
   "duration": 11.015918,
   "end_time": "2023-01-26T22:09:47.711792",
   "environment_variables": {},
   "exception": null,
   "input_path": "__notebook__.ipynb",
   "output_path": "__notebook__.ipynb",
   "parameters": {},
   "start_time": "2023-01-26T22:09:36.695874",
   "version": "2.3.4"
  }
 },
 "nbformat": 4,
 "nbformat_minor": 5
}
