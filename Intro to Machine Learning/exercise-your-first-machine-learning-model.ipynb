{
 "cells": [
  {
   "cell_type": "markdown",
   "id": "d072b707",
   "metadata": {
    "papermill": {
     "duration": 0.006247,
     "end_time": "2023-01-22T00:58:35.687294",
     "exception": false,
     "start_time": "2023-01-22T00:58:35.681047",
     "status": "completed"
    },
    "tags": []
   },
   "source": [
    "**This notebook is an exercise in the [Introduction to Machine Learning](https://www.kaggle.com/learn/intro-to-machine-learning) course.  You can reference the tutorial at [this link](https://www.kaggle.com/dansbecker/your-first-machine-learning-model).**\n",
    "\n",
    "---\n"
   ]
  },
  {
   "cell_type": "markdown",
   "id": "447efbda",
   "metadata": {
    "papermill": {
     "duration": 0.004638,
     "end_time": "2023-01-22T00:58:35.697064",
     "exception": false,
     "start_time": "2023-01-22T00:58:35.692426",
     "status": "completed"
    },
    "tags": []
   },
   "source": [
    "## Recap\n",
    "So far, you have loaded your data and reviewed it with the following code. Run this cell to set up your coding environment where the previous step left off."
   ]
  },
  {
   "cell_type": "code",
   "execution_count": 1,
   "id": "bd2bc8ca",
   "metadata": {
    "execution": {
     "iopub.execute_input": "2023-01-22T00:58:35.709578Z",
     "iopub.status.busy": "2023-01-22T00:58:35.708945Z",
     "iopub.status.idle": "2023-01-22T00:58:37.037096Z",
     "shell.execute_reply": "2023-01-22T00:58:37.035934Z"
    },
    "papermill": {
     "duration": 1.337965,
     "end_time": "2023-01-22T00:58:37.040033",
     "exception": false,
     "start_time": "2023-01-22T00:58:35.702068",
     "status": "completed"
    },
    "tags": []
   },
   "outputs": [
    {
     "name": "stdout",
     "output_type": "stream",
     "text": [
      "Setup Complete\n"
     ]
    }
   ],
   "source": [
    "# Code you have previously used to load data\n",
    "import pandas as pd\n",
    "\n",
    "# Path of the file to read\n",
    "iowa_file_path = '../input/home-data-for-ml-course/train.csv'\n",
    "\n",
    "home_data = pd.read_csv(iowa_file_path)\n",
    "\n",
    "# Set up code checking\n",
    "from learntools.core import binder\n",
    "binder.bind(globals())\n",
    "from learntools.machine_learning.ex3 import *\n",
    "\n",
    "print(\"Setup Complete\")"
   ]
  },
  {
   "cell_type": "markdown",
   "id": "0a751a2f",
   "metadata": {
    "papermill": {
     "duration": 0.005049,
     "end_time": "2023-01-22T00:58:37.050322",
     "exception": false,
     "start_time": "2023-01-22T00:58:37.045273",
     "status": "completed"
    },
    "tags": []
   },
   "source": [
    "# Exercises\n",
    "\n",
    "## Step 1: Specify Prediction Target\n",
    "Select the target variable, which corresponds to the sales price. Save this to a new variable called `y`. You'll need to print a list of the columns to find the name of the column you need.\n"
   ]
  },
  {
   "cell_type": "code",
   "execution_count": 2,
   "id": "04d56182",
   "metadata": {
    "execution": {
     "iopub.execute_input": "2023-01-22T00:58:37.062815Z",
     "iopub.status.busy": "2023-01-22T00:58:37.061644Z",
     "iopub.status.idle": "2023-01-22T00:58:37.071107Z",
     "shell.execute_reply": "2023-01-22T00:58:37.070293Z"
    },
    "papermill": {
     "duration": 0.018031,
     "end_time": "2023-01-22T00:58:37.073362",
     "exception": false,
     "start_time": "2023-01-22T00:58:37.055331",
     "status": "completed"
    },
    "tags": []
   },
   "outputs": [
    {
     "data": {
      "text/plain": [
       "Index(['Id', 'MSSubClass', 'MSZoning', 'LotFrontage', 'LotArea', 'Street',\n",
       "       'Alley', 'LotShape', 'LandContour', 'Utilities', 'LotConfig',\n",
       "       'LandSlope', 'Neighborhood', 'Condition1', 'Condition2', 'BldgType',\n",
       "       'HouseStyle', 'OverallQual', 'OverallCond', 'YearBuilt', 'YearRemodAdd',\n",
       "       'RoofStyle', 'RoofMatl', 'Exterior1st', 'Exterior2nd', 'MasVnrType',\n",
       "       'MasVnrArea', 'ExterQual', 'ExterCond', 'Foundation', 'BsmtQual',\n",
       "       'BsmtCond', 'BsmtExposure', 'BsmtFinType1', 'BsmtFinSF1',\n",
       "       'BsmtFinType2', 'BsmtFinSF2', 'BsmtUnfSF', 'TotalBsmtSF', 'Heating',\n",
       "       'HeatingQC', 'CentralAir', 'Electrical', '1stFlrSF', '2ndFlrSF',\n",
       "       'LowQualFinSF', 'GrLivArea', 'BsmtFullBath', 'BsmtHalfBath', 'FullBath',\n",
       "       'HalfBath', 'BedroomAbvGr', 'KitchenAbvGr', 'KitchenQual',\n",
       "       'TotRmsAbvGrd', 'Functional', 'Fireplaces', 'FireplaceQu', 'GarageType',\n",
       "       'GarageYrBlt', 'GarageFinish', 'GarageCars', 'GarageArea', 'GarageQual',\n",
       "       'GarageCond', 'PavedDrive', 'WoodDeckSF', 'OpenPorchSF',\n",
       "       'EnclosedPorch', '3SsnPorch', 'ScreenPorch', 'PoolArea', 'PoolQC',\n",
       "       'Fence', 'MiscFeature', 'MiscVal', 'MoSold', 'YrSold', 'SaleType',\n",
       "       'SaleCondition', 'SalePrice'],\n",
       "      dtype='object')"
      ]
     },
     "execution_count": 2,
     "metadata": {},
     "output_type": "execute_result"
    }
   ],
   "source": [
    "# print the list of columns in the dataset to find the name of the prediction target\n",
    "home_data.columns"
   ]
  },
  {
   "cell_type": "code",
   "execution_count": 3,
   "id": "2a60afdd",
   "metadata": {
    "execution": {
     "iopub.execute_input": "2023-01-22T00:58:37.086327Z",
     "iopub.status.busy": "2023-01-22T00:58:37.085605Z",
     "iopub.status.idle": "2023-01-22T00:58:37.101277Z",
     "shell.execute_reply": "2023-01-22T00:58:37.099695Z"
    },
    "papermill": {
     "duration": 0.025863,
     "end_time": "2023-01-22T00:58:37.104729",
     "exception": false,
     "start_time": "2023-01-22T00:58:37.078866",
     "status": "completed"
    },
    "tags": []
   },
   "outputs": [
    {
     "data": {
      "application/javascript": [
       "parent.postMessage({\"jupyterEvent\": \"custom.exercise_interaction\", \"data\": {\"outcomeType\": 1, \"valueTowardsCompletion\": 0.25, \"interactionType\": 1, \"questionType\": 2, \"questionId\": \"1_SetTarget\", \"learnToolsVersion\": \"0.3.4\", \"failureMessage\": \"\", \"exceptionClass\": \"\", \"trace\": \"\"}}, \"*\")"
      ],
      "text/plain": [
       "<IPython.core.display.Javascript object>"
      ]
     },
     "metadata": {},
     "output_type": "display_data"
    },
    {
     "data": {
      "text/markdown": [
       "<span style=\"color:#33cc33\">Correct</span>"
      ],
      "text/plain": [
       "Correct"
      ]
     },
     "metadata": {},
     "output_type": "display_data"
    }
   ],
   "source": [
    "y = home_data.SalePrice\n",
    "\n",
    "# Check your answer\n",
    "step_1.check()"
   ]
  },
  {
   "cell_type": "code",
   "execution_count": 4,
   "id": "92c18f50",
   "metadata": {
    "collapsed": true,
    "execution": {
     "iopub.execute_input": "2023-01-22T00:58:37.119683Z",
     "iopub.status.busy": "2023-01-22T00:58:37.118798Z",
     "iopub.status.idle": "2023-01-22T00:58:37.126292Z",
     "shell.execute_reply": "2023-01-22T00:58:37.124675Z"
    },
    "jupyter": {
     "outputs_hidden": true
    },
    "papermill": {
     "duration": 0.018221,
     "end_time": "2023-01-22T00:58:37.130103",
     "exception": false,
     "start_time": "2023-01-22T00:58:37.111882",
     "status": "completed"
    },
    "tags": []
   },
   "outputs": [],
   "source": [
    "# The lines below will show you a hint or the solution.\n",
    "# step_1.hint() \n",
    "# step_1.solution()"
   ]
  },
  {
   "cell_type": "markdown",
   "id": "9972c9a6",
   "metadata": {
    "papermill": {
     "duration": 0.007391,
     "end_time": "2023-01-22T00:58:37.147789",
     "exception": false,
     "start_time": "2023-01-22T00:58:37.140398",
     "status": "completed"
    },
    "tags": []
   },
   "source": [
    "## Step 2: Create X\n",
    "Now you will create a DataFrame called `X` holding the predictive features.\n",
    "\n",
    "Since you want only some columns from the original data, you'll first create a list with the names of the columns you want in `X`.\n",
    "\n",
    "You'll use just the following columns in the list (you can copy and paste the whole list to save some typing, though you'll still need to add quotes):\n",
    "  * LotArea\n",
    "  * YearBuilt\n",
    "  * 1stFlrSF\n",
    "  * 2ndFlrSF\n",
    "  * FullBath\n",
    "  * BedroomAbvGr\n",
    "  * TotRmsAbvGrd\n",
    "\n",
    "After you've created that list of features, use it to create the DataFrame that you'll use to fit the model."
   ]
  },
  {
   "cell_type": "code",
   "execution_count": 5,
   "id": "119985e3",
   "metadata": {
    "execution": {
     "iopub.execute_input": "2023-01-22T00:58:37.165666Z",
     "iopub.status.busy": "2023-01-22T00:58:37.164535Z",
     "iopub.status.idle": "2023-01-22T00:58:37.180479Z",
     "shell.execute_reply": "2023-01-22T00:58:37.179594Z"
    },
    "papermill": {
     "duration": 0.027401,
     "end_time": "2023-01-22T00:58:37.182622",
     "exception": false,
     "start_time": "2023-01-22T00:58:37.155221",
     "status": "completed"
    },
    "tags": []
   },
   "outputs": [
    {
     "data": {
      "application/javascript": [
       "parent.postMessage({\"jupyterEvent\": \"custom.exercise_interaction\", \"data\": {\"outcomeType\": 1, \"valueTowardsCompletion\": 0.25, \"interactionType\": 1, \"questionType\": 2, \"questionId\": \"2_SelectPredictionData\", \"learnToolsVersion\": \"0.3.4\", \"failureMessage\": \"\", \"exceptionClass\": \"\", \"trace\": \"\"}}, \"*\")"
      ],
      "text/plain": [
       "<IPython.core.display.Javascript object>"
      ]
     },
     "metadata": {},
     "output_type": "display_data"
    },
    {
     "data": {
      "text/markdown": [
       "<span style=\"color:#33cc33\">Correct</span>"
      ],
      "text/plain": [
       "Correct"
      ]
     },
     "metadata": {},
     "output_type": "display_data"
    }
   ],
   "source": [
    "# Create the list of features below\n",
    "feature_names = ['LotArea', 'YearBuilt', '1stFlrSF', '2ndFlrSF', 'FullBath', 'BedroomAbvGr', 'TotRmsAbvGrd']\n",
    "\n",
    "# Select data corresponding to features in feature_names\n",
    "X = home_data[feature_names]\n",
    "\n",
    "# Check your answer\n",
    "step_2.check()"
   ]
  },
  {
   "cell_type": "code",
   "execution_count": 6,
   "id": "61649248",
   "metadata": {
    "collapsed": true,
    "execution": {
     "iopub.execute_input": "2023-01-22T00:58:37.196646Z",
     "iopub.status.busy": "2023-01-22T00:58:37.195916Z",
     "iopub.status.idle": "2023-01-22T00:58:37.200477Z",
     "shell.execute_reply": "2023-01-22T00:58:37.199349Z"
    },
    "jupyter": {
     "outputs_hidden": true
    },
    "papermill": {
     "duration": 0.014223,
     "end_time": "2023-01-22T00:58:37.202812",
     "exception": false,
     "start_time": "2023-01-22T00:58:37.188589",
     "status": "completed"
    },
    "tags": []
   },
   "outputs": [],
   "source": [
    "# step_2.hint()\n",
    "# step_2.solution()"
   ]
  },
  {
   "cell_type": "markdown",
   "id": "b26d16dc",
   "metadata": {
    "papermill": {
     "duration": 0.005607,
     "end_time": "2023-01-22T00:58:37.214372",
     "exception": false,
     "start_time": "2023-01-22T00:58:37.208765",
     "status": "completed"
    },
    "tags": []
   },
   "source": [
    "## Review Data\n",
    "Before building a model, take a quick look at **X** to verify it looks sensible"
   ]
  },
  {
   "cell_type": "code",
   "execution_count": 7,
   "id": "fa76762c",
   "metadata": {
    "execution": {
     "iopub.execute_input": "2023-01-22T00:58:37.227539Z",
     "iopub.status.busy": "2023-01-22T00:58:37.227067Z",
     "iopub.status.idle": "2023-01-22T00:58:37.264906Z",
     "shell.execute_reply": "2023-01-22T00:58:37.263317Z"
    },
    "papermill": {
     "duration": 0.048325,
     "end_time": "2023-01-22T00:58:37.268538",
     "exception": false,
     "start_time": "2023-01-22T00:58:37.220213",
     "status": "completed"
    },
    "tags": []
   },
   "outputs": [
    {
     "name": "stdout",
     "output_type": "stream",
     "text": [
      "             LotArea    YearBuilt     1stFlrSF     2ndFlrSF     FullBath  \\\n",
      "count    1460.000000  1460.000000  1460.000000  1460.000000  1460.000000   \n",
      "mean    10516.828082  1971.267808  1162.626712   346.992466     1.565068   \n",
      "std      9981.264932    30.202904   386.587738   436.528436     0.550916   \n",
      "min      1300.000000  1872.000000   334.000000     0.000000     0.000000   \n",
      "25%      7553.500000  1954.000000   882.000000     0.000000     1.000000   \n",
      "50%      9478.500000  1973.000000  1087.000000     0.000000     2.000000   \n",
      "75%     11601.500000  2000.000000  1391.250000   728.000000     2.000000   \n",
      "max    215245.000000  2010.000000  4692.000000  2065.000000     3.000000   \n",
      "\n",
      "       BedroomAbvGr  TotRmsAbvGrd  \n",
      "count   1460.000000   1460.000000  \n",
      "mean       2.866438      6.517808  \n",
      "std        0.815778      1.625393  \n",
      "min        0.000000      2.000000  \n",
      "25%        2.000000      5.000000  \n",
      "50%        3.000000      6.000000  \n",
      "75%        3.000000      7.000000  \n",
      "max        8.000000     14.000000  \n",
      "   LotArea  YearBuilt  1stFlrSF  2ndFlrSF  FullBath  BedroomAbvGr  \\\n",
      "0     8450       2003       856       854         2             3   \n",
      "1     9600       1976      1262         0         2             3   \n",
      "2    11250       2001       920       866         2             3   \n",
      "3     9550       1915       961       756         1             3   \n",
      "4    14260       2000      1145      1053         2             4   \n",
      "\n",
      "   TotRmsAbvGrd  \n",
      "0             8  \n",
      "1             6  \n",
      "2             6  \n",
      "3             7  \n",
      "4             9  \n"
     ]
    }
   ],
   "source": [
    "# Review data\n",
    "# print description or statistics from X\n",
    "print(X.describe())\n",
    "\n",
    "# print the top few lines\n",
    "print(X.head())"
   ]
  },
  {
   "cell_type": "markdown",
   "id": "58480767",
   "metadata": {
    "papermill": {
     "duration": 0.005765,
     "end_time": "2023-01-22T00:58:37.280745",
     "exception": false,
     "start_time": "2023-01-22T00:58:37.274980",
     "status": "completed"
    },
    "tags": []
   },
   "source": [
    "## Step 3: Specify and Fit Model\n",
    "Create a `DecisionTreeRegressor` and save it iowa_model. Ensure you've done the relevant import from sklearn to run this command.\n",
    "\n",
    "Then fit the model you just created using the data in `X` and `y` that you saved above."
   ]
  },
  {
   "cell_type": "code",
   "execution_count": 8,
   "id": "b5e393e1",
   "metadata": {
    "execution": {
     "iopub.execute_input": "2023-01-22T00:58:37.294572Z",
     "iopub.status.busy": "2023-01-22T00:58:37.294180Z",
     "iopub.status.idle": "2023-01-22T00:58:37.311490Z",
     "shell.execute_reply": "2023-01-22T00:58:37.310318Z"
    },
    "papermill": {
     "duration": 0.027305,
     "end_time": "2023-01-22T00:58:37.313935",
     "exception": false,
     "start_time": "2023-01-22T00:58:37.286630",
     "status": "completed"
    },
    "tags": []
   },
   "outputs": [
    {
     "data": {
      "application/javascript": [
       "parent.postMessage({\"jupyterEvent\": \"custom.exercise_interaction\", \"data\": {\"outcomeType\": 1, \"valueTowardsCompletion\": 0.25, \"interactionType\": 1, \"questionType\": 2, \"questionId\": \"3_CreateModel\", \"learnToolsVersion\": \"0.3.4\", \"failureMessage\": \"\", \"exceptionClass\": \"\", \"trace\": \"\"}}, \"*\")"
      ],
      "text/plain": [
       "<IPython.core.display.Javascript object>"
      ]
     },
     "metadata": {},
     "output_type": "display_data"
    },
    {
     "data": {
      "text/markdown": [
       "<span style=\"color:#33cc33\">Correct</span>"
      ],
      "text/plain": [
       "Correct"
      ]
     },
     "metadata": {},
     "output_type": "display_data"
    }
   ],
   "source": [
    "from sklearn.tree import DecisionTreeRegressor\n",
    "#specify the model. \n",
    "#For model reproducibility, set a numeric value for random_state when specifying the model\n",
    "iowa_model = DecisionTreeRegressor(random_state=5)\n",
    "\n",
    "# Fit the model\n",
    "iowa_model.fit(X, y)\n",
    "\n",
    "# Check your answer\n",
    "step_3.check()"
   ]
  },
  {
   "cell_type": "code",
   "execution_count": 9,
   "id": "d61463de",
   "metadata": {
    "collapsed": true,
    "execution": {
     "iopub.execute_input": "2023-01-22T00:58:37.328191Z",
     "iopub.status.busy": "2023-01-22T00:58:37.327732Z",
     "iopub.status.idle": "2023-01-22T00:58:37.332299Z",
     "shell.execute_reply": "2023-01-22T00:58:37.331101Z"
    },
    "jupyter": {
     "outputs_hidden": true
    },
    "papermill": {
     "duration": 0.014673,
     "end_time": "2023-01-22T00:58:37.334765",
     "exception": false,
     "start_time": "2023-01-22T00:58:37.320092",
     "status": "completed"
    },
    "tags": []
   },
   "outputs": [],
   "source": [
    "# step_3.hint()\n",
    "# step_3.solution()"
   ]
  },
  {
   "cell_type": "markdown",
   "id": "8fff914d",
   "metadata": {
    "papermill": {
     "duration": 0.005931,
     "end_time": "2023-01-22T00:58:37.347027",
     "exception": false,
     "start_time": "2023-01-22T00:58:37.341096",
     "status": "completed"
    },
    "tags": []
   },
   "source": [
    "## Step 4: Make Predictions\n",
    "Make predictions with the model's `predict` command using `X` as the data. Save the results to a variable called `predictions`."
   ]
  },
  {
   "cell_type": "code",
   "execution_count": 10,
   "id": "6641f5d7",
   "metadata": {
    "execution": {
     "iopub.execute_input": "2023-01-22T00:58:37.361646Z",
     "iopub.status.busy": "2023-01-22T00:58:37.361257Z",
     "iopub.status.idle": "2023-01-22T00:58:37.376531Z",
     "shell.execute_reply": "2023-01-22T00:58:37.375393Z"
    },
    "papermill": {
     "duration": 0.025552,
     "end_time": "2023-01-22T00:58:37.378849",
     "exception": false,
     "start_time": "2023-01-22T00:58:37.353297",
     "status": "completed"
    },
    "tags": []
   },
   "outputs": [
    {
     "name": "stdout",
     "output_type": "stream",
     "text": [
      "[208500. 181500. 223500. ... 266500. 142125. 147500.]\n"
     ]
    },
    {
     "data": {
      "application/javascript": [
       "parent.postMessage({\"jupyterEvent\": \"custom.exercise_interaction\", \"data\": {\"outcomeType\": 1, \"valueTowardsCompletion\": 0.25, \"interactionType\": 1, \"questionType\": 2, \"questionId\": \"4_MakePredictions\", \"learnToolsVersion\": \"0.3.4\", \"failureMessage\": \"\", \"exceptionClass\": \"\", \"trace\": \"\"}}, \"*\")"
      ],
      "text/plain": [
       "<IPython.core.display.Javascript object>"
      ]
     },
     "metadata": {},
     "output_type": "display_data"
    },
    {
     "data": {
      "text/markdown": [
       "<span style=\"color:#33cc33\">Correct</span>"
      ],
      "text/plain": [
       "Correct"
      ]
     },
     "metadata": {},
     "output_type": "display_data"
    }
   ],
   "source": [
    "predictions = iowa_model.predict(X)\n",
    "print(predictions)\n",
    "\n",
    "# Check your answer\n",
    "step_4.check()"
   ]
  },
  {
   "cell_type": "code",
   "execution_count": 11,
   "id": "786a07e1",
   "metadata": {
    "collapsed": true,
    "execution": {
     "iopub.execute_input": "2023-01-22T00:58:37.394417Z",
     "iopub.status.busy": "2023-01-22T00:58:37.393732Z",
     "iopub.status.idle": "2023-01-22T00:58:37.398022Z",
     "shell.execute_reply": "2023-01-22T00:58:37.397098Z"
    },
    "jupyter": {
     "outputs_hidden": true
    },
    "papermill": {
     "duration": 0.014726,
     "end_time": "2023-01-22T00:58:37.400293",
     "exception": false,
     "start_time": "2023-01-22T00:58:37.385567",
     "status": "completed"
    },
    "tags": []
   },
   "outputs": [],
   "source": [
    "# step_4.hint()\n",
    "# step_4.solution()"
   ]
  },
  {
   "cell_type": "markdown",
   "id": "19a14338",
   "metadata": {
    "papermill": {
     "duration": 0.00638,
     "end_time": "2023-01-22T00:58:37.413346",
     "exception": false,
     "start_time": "2023-01-22T00:58:37.406966",
     "status": "completed"
    },
    "tags": []
   },
   "source": [
    "## Think About Your Results\n",
    "\n",
    "Use the `head` method to compare the top few predictions to the actual home values (in `y`) for those same homes. Anything surprising?\n"
   ]
  },
  {
   "cell_type": "code",
   "execution_count": 12,
   "id": "aa4abbf5",
   "metadata": {
    "execution": {
     "iopub.execute_input": "2023-01-22T00:58:37.428775Z",
     "iopub.status.busy": "2023-01-22T00:58:37.428120Z",
     "iopub.status.idle": "2023-01-22T00:58:37.439105Z",
     "shell.execute_reply": "2023-01-22T00:58:37.437967Z"
    },
    "papermill": {
     "duration": 0.021671,
     "end_time": "2023-01-22T00:58:37.441594",
     "exception": false,
     "start_time": "2023-01-22T00:58:37.419923",
     "status": "completed"
    },
    "tags": []
   },
   "outputs": [
    {
     "name": "stdout",
     "output_type": "stream",
     "text": [
      "[208500. 181500. 223500. 140000. 250000.]\n"
     ]
    },
    {
     "data": {
      "text/plain": [
       "0    208500\n",
       "1    181500\n",
       "2    223500\n",
       "3    140000\n",
       "4    250000\n",
       "Name: SalePrice, dtype: int64"
      ]
     },
     "execution_count": 12,
     "metadata": {},
     "output_type": "execute_result"
    }
   ],
   "source": [
    "# You can write code in this cell\n",
    "print(iowa_model.predict(X.head()))\n",
    "y.head()"
   ]
  },
  {
   "cell_type": "markdown",
   "id": "fa696517",
   "metadata": {
    "papermill": {
     "duration": 0.006337,
     "end_time": "2023-01-22T00:58:37.454736",
     "exception": false,
     "start_time": "2023-01-22T00:58:37.448399",
     "status": "completed"
    },
    "tags": []
   },
   "source": [
    "It's natural to ask how accurate the model's predictions will be and how you can improve that. That will be you're next step.\n",
    "\n",
    "# Keep Going\n",
    "\n",
    "You are ready for **[Model Validation](https://www.kaggle.com/dansbecker/model-validation).**\n"
   ]
  },
  {
   "cell_type": "markdown",
   "id": "737c6eab",
   "metadata": {
    "papermill": {
     "duration": 0.006491,
     "end_time": "2023-01-22T00:58:37.467938",
     "exception": false,
     "start_time": "2023-01-22T00:58:37.461447",
     "status": "completed"
    },
    "tags": []
   },
   "source": [
    "---\n",
    "\n",
    "\n",
    "\n",
    "\n",
    "*Have questions or comments? Visit the [course discussion forum](https://www.kaggle.com/learn/intro-to-machine-learning/discussion) to chat with other learners.*"
   ]
  }
 ],
 "metadata": {
  "kernelspec": {
   "display_name": "Python 3",
   "language": "python",
   "name": "python3"
  },
  "language_info": {
   "codemirror_mode": {
    "name": "ipython",
    "version": 3
   },
   "file_extension": ".py",
   "mimetype": "text/x-python",
   "name": "python",
   "nbconvert_exporter": "python",
   "pygments_lexer": "ipython3",
   "version": "3.7.12"
  },
  "papermill": {
   "default_parameters": {},
   "duration": 11.181359,
   "end_time": "2023-01-22T00:58:38.195701",
   "environment_variables": {},
   "exception": null,
   "input_path": "__notebook__.ipynb",
   "output_path": "__notebook__.ipynb",
   "parameters": {},
   "start_time": "2023-01-22T00:58:27.014342",
   "version": "2.3.4"
  }
 },
 "nbformat": 4,
 "nbformat_minor": 5
}
